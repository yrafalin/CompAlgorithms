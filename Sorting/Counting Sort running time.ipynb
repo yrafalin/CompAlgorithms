{
 "cells": [
  {
   "cell_type": "markdown",
   "metadata": {},
   "source": [
    "We provide the following implementation of counting sort:"
   ]
  },
  {
   "cell_type": "code",
   "execution_count": 1,
   "metadata": {},
   "outputs": [],
   "source": [
    "def counting_sort (input_array):\n",
    "    input_range = max(input_array) - min(input_array)\n",
    "    min_input = min(input_array)\n",
    "    count_array = [0] * (input_range + 1)\n",
    "    \n",
    "    for ii in input_array:\n",
    "        count_array[ii-min_input] += 1\n",
    "\n",
    "    counter = 0\n",
    "    for ii in range(len(count_array)):\n",
    "        while 0 < count_array[ii]:\n",
    "            input_array[counter] = ii+min_input\n",
    "            counter += 1\n",
    "            count_array[ii] -= 1"
   ]
  },
  {
   "cell_type": "markdown",
   "metadata": {},
   "source": [
    "**Running time.** Based on your answer to [Option 6](https://docs.google.com/document/d/1PlBMaCblIotfho8H2o2JjUu0AdO8y9RQF1-Xz3pP7RE/edit#), create a function that takes in an integer and returns a list whose size is that integer, and which will be sorted efficiently by counting sort."
   ]
  },
  {
   "cell_type": "code",
   "execution_count": 2,
   "metadata": {},
   "outputs": [],
   "source": [
    "def create_fast_input(size):\n",
    "    # YOUR CODE GOES HERE"
   ]
  },
  {
   "cell_type": "markdown",
   "metadata": {},
   "source": [
    "Using the %time function, run the counting sort implementation on fast input lists of various sizes, and show that your answer to option 6 is correct. An example of how to use %time is given below."
   ]
  },
  {
   "cell_type": "code",
   "execution_count": 5,
   "metadata": {},
   "outputs": [
    {
     "name": "stdout",
     "output_type": "stream",
     "text": [
      "CPU times: user 740 µs, sys: 20 µs, total: 760 µs\n",
      "Wall time: 822 µs\n"
     ]
    }
   ],
   "source": [
    "%time counting_sort(create_fast_input(1000))"
   ]
  },
  {
   "cell_type": "markdown",
   "metadata": {},
   "source": [
    "Repeat this exercise for an input that will be slow."
   ]
  },
  {
   "cell_type": "code",
   "execution_count": 6,
   "metadata": {},
   "outputs": [],
   "source": [
    "import random\n",
    "def create_slow_input(size):\n",
    "    # YOUR CODE GOES HERE\n",
    "    return random.sample(range(size**2), size)"
   ]
  },
  {
   "cell_type": "code",
   "execution_count": 10,
   "metadata": {},
   "outputs": [
    {
     "name": "stdout",
     "output_type": "stream",
     "text": [
      "CPU times: user 884 µs, sys: 6 µs, total: 890 µs\n",
      "Wall time: 988 µs\n",
      "CPU times: user 78.8 ms, sys: 2.49 ms, total: 81.3 ms\n",
      "Wall time: 83.3 ms\n",
      "CPU times: user 6.55 s, sys: 229 ms, total: 6.78 s\n",
      "Wall time: 6.91 s\n"
     ]
    }
   ],
   "source": [
    "%time n = counting_sort(create_slow_input(100))"
   ]
  },
  {
   "cell_type": "code",
   "execution_count": null,
   "metadata": {},
   "outputs": [],
   "source": []
  }
 ],
 "metadata": {
  "kernelspec": {
   "display_name": "Python 3 (ipykernel)",
   "language": "python",
   "name": "python3"
  },
  "language_info": {
   "codemirror_mode": {
    "name": "ipython",
    "version": 3
   },
   "file_extension": ".py",
   "mimetype": "text/x-python",
   "name": "python",
   "nbconvert_exporter": "python",
   "pygments_lexer": "ipython3",
   "version": "3.8.10"
  }
 },
 "nbformat": 4,
 "nbformat_minor": 2
}
