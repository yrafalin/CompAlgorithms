{
 "cells": [
  {
   "cell_type": "code",
   "execution_count": 9,
   "id": "f765b638",
   "metadata": {},
   "outputs": [],
   "source": [
    "import math\n",
    "import copy"
   ]
  },
  {
   "cell_type": "code",
   "execution_count": null,
   "id": "128db2c3",
   "metadata": {},
   "outputs": [],
   "source": [
    "[[]]\n",
    "[1, 2,3,4,5,6,7,8,9]"
   ]
  },
  {
   "cell_type": "markdown",
   "id": "fc1fcf4b",
   "metadata": {},
   "source": [
    "# 1"
   ]
  },
  {
   "cell_type": "markdown",
   "id": "2da0b5a7",
   "metadata": {},
   "source": [
    "For my binary tree implementation, I was debating between storing it in a dictionary or a list. I thought that the issue with dictionaries is that there is no clear key value for a given value in the tree. For example, it could be a number like a heap index, but that wouldn't work with an unbalanced tree. I also considered an address like 'rrllrl' but I thought implementing this would be too convoluted.\n",
    "\n",
    "This led me to settle on using a list. In the list implementation, I thought of giving each node in the tree its own list, with the value, and then pointers to the left and right branches. For the pointers I could put either the absolute index of the next branch, or the relative one. I decided to use the relative one because it is much easier to work with, as will become clear.\n",
    "\n",
    "My first function was one which would construct this tree from a sorted list. Using an already sorted list allowed me to find the median easily, which means I could create a balanced tree.\n",
    "\n",
    "You might notice that in this implementation nodes don't know their location in the tree, and have no access to their parent, but neither of these actions are necessary for using the binary tree.\n",
    "\n",
    "Also, clearly the relative distance to the left branch is always 1 in a balanced tree, so this might seem redundant, however, I had a feeling that for certain applications it would be necessary to have an explicit pointer to the left branch, which proved true."
   ]
  },
  {
   "cell_type": "code",
   "execution_count": 5,
   "id": "eec8ef07",
   "metadata": {},
   "outputs": [],
   "source": [
    "def construct_tree(sorted_array):\n",
    "    n = len(sorted_array)\n",
    "    new_tree = [[sorted_array[n//2], None, None]]\n",
    "    if n > 1:\n",
    "        new_tree[0][1] = 1\n",
    "        new_tree.extend(construct_tree(sorted_array[:n//2]))\n",
    "        if n > 2:\n",
    "            new_tree[0][2] = len(new_tree)\n",
    "            new_tree.extend(construct_tree(sorted_array[(n//2)+1:]))\n",
    "    return new_tree"
   ]
  },
  {
   "cell_type": "code",
   "execution_count": 6,
   "id": "858110e8",
   "metadata": {},
   "outputs": [
    {
     "data": {
      "text/plain": [
       "[[5, 1, 5],\n",
       " [3, 1, 3],\n",
       " [2, 1, None],\n",
       " [1, None, None],\n",
       " [4, None, None],\n",
       " [8, 1, 3],\n",
       " [7, 1, None],\n",
       " [6, None, None],\n",
       " [9, None, None]]"
      ]
     },
     "execution_count": 6,
     "metadata": {},
     "output_type": "execute_result"
    }
   ],
   "source": [
    "construct_tree([1,2,3,4,5,6,7,8,9])"
   ]
  },
  {
   "attachments": {
    "1-9%20Balanced%20Binary%20Tree.png": {
     "image/png": "[encoded data removed]"
    }
   },
   "cell_type": "markdown",
   "id": "01850d9c",
   "metadata": {},
   "source": [
    "![1-9%20Balanced%20Binary%20Tree.png](attachment:1-9%20Balanced%20Binary%20Tree.png)"
   ]
  },
  {
   "cell_type": "markdown",
   "id": "308e0324",
   "metadata": {},
   "source": [
    "Testing whether it works with repeating values"
   ]
  },
  {
   "cell_type": "code",
   "execution_count": 7,
   "id": "64ce5ed4",
   "metadata": {},
   "outputs": [
    {
     "data": {
      "text/plain": [
       "[[5, 1, 6],\n",
       " [3, 1, 3],\n",
       " [2, 1, None],\n",
       " [1, None, None],\n",
       " [5, 1, None],\n",
       " [4, None, None],\n",
       " [8, 1, 3],\n",
       " [7, 1, None],\n",
       " [6, None, None],\n",
       " [9, None, None]]"
      ]
     },
     "execution_count": 7,
     "metadata": {},
     "output_type": "execute_result"
    }
   ],
   "source": [
    "construct_tree([1,2,3,4,5,5,6,7,8,9])"
   ]
  },
  {
   "cell_type": "markdown",
   "id": "efad96f0",
   "metadata": {},
   "source": [
    "The next step was creating the insert function. My original attempt, old_insert() worked for basic insertions on a balanced tree, however once I got to the random tree in part 3, I encountered numerous bugs with it. The rewritten function, insert(), is less redundant.\n",
    "\n",
    "insert() works the following way: For every node in the tree, it checks if x is bigger than the element. If so, if there is a right branch it goes down that branch, otherwise it inserts x as a new node there. To find the distance to the new right branch, we have to find the furthest element which is in the left branch, which we do with the distance_to_bottom_right() function. This function climbs down the left branch to the lowest point it finds, following the right branch whenever possible, as the rightmost branch should be the furthest. In old_insert I used a function called distance_to_bottom_left which followed the left branch all the way down on the left. This does not find the correct distance for the new right branch and I think was the source of many errors.\n",
    "\n",
    "If x is smaller than the element, it increments the pointer to the right branch, because we know a new node will be inserted ahead of the right branch, so the relative distance increases by one. If there is not left branch, then a new one is inserted directly after the current node. Otherwise, it goes down the existing left branch and the process repeats.\n",
    "\n",
    "The find_min() and delete_min() functions go down the left branch as far as they can, with delete_min() decrementing each right branch pointer it encounters in order to adjust the new relative distance once the node has been deleted. find_min() just returns the value of this far left node, while delete_min deletes it, returns it, and if it has a right node, links that branch as the new left branch of the above node."
   ]
  },
  {
   "cell_type": "code",
   "execution_count": 12,
   "id": "7f63f3f8",
   "metadata": {},
   "outputs": [],
   "source": [
    "def distance_to_bottom_left(tree):\n",
    "    current_i = 0\n",
    "    current_ele = tree[current_i]\n",
    "    while current_ele[1] is not None:\n",
    "        current_i += current_ele[1]\n",
    "        current_ele = tree[current_i]\n",
    "    return current_i"
   ]
  },
  {
   "cell_type": "code",
   "execution_count": 234,
   "id": "904375a7",
   "metadata": {},
   "outputs": [],
   "source": [
    "def distance_to_bottom_right(tree):  # after going left first\n",
    "    if tree[0][1] is None:\n",
    "        return 0\n",
    "    current_i = tree[0][1]\n",
    "    current_ele = tree[current_i]\n",
    "    while True:\n",
    "        if current_ele[2]:\n",
    "            current_i += current_ele[2]\n",
    "            current_ele = tree[current_i]\n",
    "        elif current_ele[1]:\n",
    "            current_i += current_ele[1]\n",
    "            current_ele = tree[current_i]\n",
    "        else:\n",
    "            return current_i"
   ]
  },
  {
   "cell_type": "code",
   "execution_count": 35,
   "id": "211afab6",
   "metadata": {},
   "outputs": [],
   "source": [
    "def find_min(tree):\n",
    "    current_i = 0\n",
    "    current_ele = tree[current_i]\n",
    "    while current_ele[1] is not None:\n",
    "        current_i += current_ele[1]\n",
    "        current_ele = tree[current_i]\n",
    "    return current_ele[0]"
   ]
  },
  {
   "cell_type": "code",
   "execution_count": 277,
   "id": "2cc7a213",
   "metadata": {},
   "outputs": [],
   "source": [
    "def delete_min(tree):\n",
    "    current_i = 0\n",
    "    current_ele = tree[current_i]\n",
    "    while current_ele[1] is not None:\n",
    "        if tree[current_i][2] and tree[current_i][2] > tree[current_i][1]: tree[current_i][2] -= 1\n",
    "        prev_i = current_i\n",
    "        current_i += current_ele[1]\n",
    "        current_ele = tree[current_i]\n",
    "    if current_i > 0:\n",
    "        if current_ele[2] is not None:\n",
    "            tree[prev_i][1] += current_ele[2] - 1\n",
    "        else:\n",
    "            tree[prev_i][1] = None\n",
    "    return tree.pop(current_i)"
   ]
  },
  {
   "cell_type": "code",
   "execution_count": 224,
   "id": "095f4b1c",
   "metadata": {},
   "outputs": [],
   "source": [
    "def exists(x, tree):\n",
    "    current_i = 0\n",
    "    current_ele = tree[current_i]\n",
    "    while True:\n",
    "        if x == current_ele[0]:\n",
    "            return True\n",
    "        elif x > current_ele[0]:\n",
    "            if current_ele[2]:\n",
    "                current_i += current_ele[2]\n",
    "                current_ele = tree[current_i]\n",
    "            else:\n",
    "                return False\n",
    "        elif x < current_ele[0]:\n",
    "            if current_ele[1]:\n",
    "                current_i += current_ele[1]\n",
    "                current_ele = tree[current_i]\n",
    "            else:\n",
    "                return False\n",
    "        else:\n",
    "            raise ValueError"
   ]
  },
  {
   "cell_type": "code",
   "execution_count": 132,
   "id": "eed3d4c9",
   "metadata": {},
   "outputs": [],
   "source": [
    "def old_insert(x, tree):\n",
    "    #tree = copy.deepcopy(tree_i)\n",
    "    current_i = 0\n",
    "    current_ele = tree[current_i]\n",
    "    while current_ele[2] is not None and current_ele[1] is not None:  # while we are on balanced parts of the tree\n",
    "        if x > current_ele[0]:\n",
    "            current_i += current_ele[2]\n",
    "            current_ele = tree[current_i]\n",
    "        elif x <= current_ele[0]:\n",
    "            tree[current_i][2] += 1  # adjust relative distance to right branch due to new element in between\n",
    "            current_i += current_ele[1]\n",
    "            current_ele = tree[current_i]\n",
    "    while current_ele[2] is not None:  # for when we've reached the zone where is it right leaning\n",
    "        if x > current_ele[0]:\n",
    "            current_i += current_ele[2]\n",
    "            current_ele = tree[current_i]\n",
    "        elif x <= current_ele[0]:\n",
    "            tree[current_i][2] += 1\n",
    "            tree[current_i][1] = 1\n",
    "            tree.insert(current_i+1, [x, None, None])\n",
    "            return tree\n",
    "    while current_ele[1] is not None:  # for when we've reached the zone where is it left leaning\n",
    "        if x > current_ele[0]:\n",
    "            tree[current_i][2] = distance_to_bottom_left(tree[current_i:])+1  # prob makes it not maximally efficient\n",
    "            tree.insert(current_i+tree[current_i][2], [x, None, None])\n",
    "            return tree\n",
    "        elif x <= current_ele[0]:\n",
    "            current_i += current_ele[1]\n",
    "            current_ele = tree[current_i]\n",
    "    if x > current_ele[0]:  # when an element needs to be inserted on the right under a bottom node\n",
    "        tree[current_i][2] = 1  # should always be 1 because otherwise loop wouldn't have ended?\n",
    "        tree.insert(current_i+1, [x, None, None])\n",
    "    else:\n",
    "        tree[current_i][1] = 1\n",
    "        tree.insert(current_i+1, [x, None, None])\n",
    "    return tree"
   ]
  },
  {
   "cell_type": "code",
   "execution_count": 242,
   "id": "28bf0b9b",
   "metadata": {},
   "outputs": [],
   "source": [
    "def insert(x, tree):\n",
    "    #tree = copy.deepcopy(tree_i)\n",
    "    current_i = 0\n",
    "    current_ele = tree[current_i]\n",
    "    while True:  # while we have not found our spot\n",
    "        if x > current_ele[0]:\n",
    "            if current_ele[2]: # is not None:\n",
    "                current_i += current_ele[2]\n",
    "                current_ele = tree[current_i]\n",
    "            else:\n",
    "                tree[current_i][2] = distance_to_bottom_right(tree[current_i:])+1  # prob makes it not maximally efficient\n",
    "                tree.insert(current_i+tree[current_i][2], [x, None, None])\n",
    "                return tree    \n",
    "        elif x <= current_ele[0]:\n",
    "            if current_ele[2]: # is not None:\n",
    "                tree[current_i][2] += 1  # adjust relative distance to right branch due to new element in between\n",
    "            if current_ele[1]: # is not None:\n",
    "                current_i += current_ele[1]\n",
    "                current_ele = tree[current_i]\n",
    "            else:\n",
    "                tree[current_i][1] = 1\n",
    "                tree.insert(current_i+1, [x, None, None])\n",
    "                return tree"
   ]
  },
  {
   "cell_type": "code",
   "execution_count": 14,
   "id": "ba3e3221",
   "metadata": {},
   "outputs": [],
   "source": [
    "test_bottom_left = [[7, 1, None],\n",
    "[6, 1, None],\n",
    "[5, None, None]]"
   ]
  },
  {
   "cell_type": "code",
   "execution_count": 15,
   "id": "5586f9fc",
   "metadata": {},
   "outputs": [
    {
     "data": {
      "text/plain": [
       "2"
      ]
     },
     "execution_count": 15,
     "metadata": {},
     "output_type": "execute_result"
    }
   ],
   "source": [
    "distance_to_bottom_left(test_bottom_left)"
   ]
  },
  {
   "cell_type": "markdown",
   "id": "6e5464f2",
   "metadata": {},
   "source": [
    "Here I tested the insert function with values going in different places in the tree"
   ]
  },
  {
   "cell_type": "code",
   "execution_count": 144,
   "id": "2b5316fa",
   "metadata": {},
   "outputs": [],
   "source": [
    "initial_tree = construct_tree([1,2,3,4,5,6,7,8,9])"
   ]
  },
  {
   "cell_type": "code",
   "execution_count": 141,
   "id": "fc832f7d",
   "metadata": {},
   "outputs": [
    {
     "data": {
      "text/plain": [
       "[[5, 1, 5],\n",
       " [3, 1, 3],\n",
       " [2, 1, None],\n",
       " [1, None, None],\n",
       " [4, None, None],\n",
       " [8, 1, 4],\n",
       " [7, 1, 2],\n",
       " [6, None, None],\n",
       " [7.5, None, None],\n",
       " [9, None, None]]"
      ]
     },
     "execution_count": 141,
     "metadata": {},
     "output_type": "execute_result"
    }
   ],
   "source": [
    "insert(7.5, initial_tree)"
   ]
  },
  {
   "cell_type": "code",
   "execution_count": 143,
   "id": "9e96fa2e",
   "metadata": {},
   "outputs": [
    {
     "data": {
      "text/plain": [
       "[[5, 1, 5],\n",
       " [3, 1, 3],\n",
       " [2, 1, None],\n",
       " [1, None, None],\n",
       " [4, None, None],\n",
       " [8, 1, 3],\n",
       " [7, 1, None],\n",
       " [6, None, None],\n",
       " [9, None, 1],\n",
       " [10, None, None]]"
      ]
     },
     "execution_count": 143,
     "metadata": {},
     "output_type": "execute_result"
    }
   ],
   "source": [
    "insert(10, initial_tree)"
   ]
  },
  {
   "cell_type": "code",
   "execution_count": 145,
   "id": "f3d11d07",
   "metadata": {},
   "outputs": [
    {
     "data": {
      "text/plain": [
       "[[5, 1, 6],\n",
       " [3, 1, 4],\n",
       " [2, 1, 2],\n",
       " [1, None, None],\n",
       " [2.5, None, None],\n",
       " [4, None, None],\n",
       " [8, 1, 3],\n",
       " [7, 1, None],\n",
       " [6, None, None],\n",
       " [9, None, None]]"
      ]
     },
     "execution_count": 145,
     "metadata": {},
     "output_type": "execute_result"
    }
   ],
   "source": [
    "insert(2.5, initial_tree)"
   ]
  },
  {
   "cell_type": "code",
   "execution_count": 33,
   "id": "cd65e3dd",
   "metadata": {},
   "outputs": [
    {
     "data": {
      "text/plain": [
       "[[5, 1, 6],\n",
       " [3, 1, 3],\n",
       " [2, 1, None],\n",
       " [1, None, None],\n",
       " [4, None, 1],\n",
       " [5, None, None],\n",
       " [8, 1, 3],\n",
       " [7, 1, None],\n",
       " [6, None, None],\n",
       " [9, None, None]]"
      ]
     },
     "execution_count": 33,
     "metadata": {},
     "output_type": "execute_result"
    }
   ],
   "source": [
    "insert(5, initial_tree)"
   ]
  },
  {
   "cell_type": "code",
   "execution_count": 139,
   "id": "17f3aae6",
   "metadata": {},
   "outputs": [
    {
     "data": {
      "text/plain": [
       "[[5, 1, 5],\n",
       " [3, 1, 3],\n",
       " [2, 1, None],\n",
       " [1, None, None],\n",
       " [4, None, None],\n",
       " [8, 1, 4],\n",
       " [7, 1, None],\n",
       " [6, 1, None],\n",
       " [5.5, None, None],\n",
       " [9, None, None]]"
      ]
     },
     "execution_count": 139,
     "metadata": {},
     "output_type": "execute_result"
    }
   ],
   "source": [
    "insert(5.5, initial_tree)"
   ]
  },
  {
   "cell_type": "code",
   "execution_count": 36,
   "id": "4cee45d2",
   "metadata": {},
   "outputs": [
    {
     "data": {
      "text/plain": [
       "1"
      ]
     },
     "execution_count": 36,
     "metadata": {},
     "output_type": "execute_result"
    }
   ],
   "source": [
    "find_min(initial_tree)"
   ]
  },
  {
   "cell_type": "code",
   "execution_count": 39,
   "id": "3cfc0f98",
   "metadata": {},
   "outputs": [
    {
     "data": {
      "text/plain": [
       "[[8, 1, 8],\n",
       " [4, 1, 4],\n",
       " [2, 1, 2],\n",
       " [1, None, None],\n",
       " [3, None, None],\n",
       " [6, 1, 2],\n",
       " [5, None, None],\n",
       " [7, None, None],\n",
       " [12, 1, 4],\n",
       " [10, 1, 2],\n",
       " [9, None, None],\n",
       " [11, None, None],\n",
       " [14, 1, 2],\n",
       " [13, None, None],\n",
       " [15, None, None]]"
      ]
     },
     "execution_count": 39,
     "metadata": {},
     "output_type": "execute_result"
    }
   ],
   "source": [
    "construct_tree(list(range(1,16)))  # a perfectly balanced tree"
   ]
  },
  {
   "cell_type": "code",
   "execution_count": 51,
   "id": "8a614451",
   "metadata": {},
   "outputs": [],
   "source": [
    "sixteen = construct_tree(list(range(1,16)))\n",
    "thirtytwo = construct_tree(list(range(1,32)))\n",
    "sixtyfour = construct_tree(list(range(1,64)))\n",
    "onetwoeight = construct_tree(list(range(1,128)))\n",
    "twofiftysix = construct_tree(list(range(1,256)))\n",
    "fivetwelve = construct_tree(list(range(1,512)))\n",
    "tentwofour = construct_tree(list(range(1,1024)))"
   ]
  },
  {
   "cell_type": "code",
   "execution_count": 49,
   "id": "40fd959f",
   "metadata": {},
   "outputs": [
    {
     "name": "stdout",
     "output_type": "stream",
     "text": [
      "CPU times: user 370 µs, sys: 1 µs, total: 371 µs\n",
      "Wall time: 374 µs\n",
      "CPU times: user 71 µs, sys: 0 ns, total: 71 µs\n",
      "Wall time: 73.9 µs\n",
      "CPU times: user 181 µs, sys: 5 µs, total: 186 µs\n",
      "Wall time: 211 µs\n",
      "CPU times: user 236 µs, sys: 1 µs, total: 237 µs\n",
      "Wall time: 241 µs\n",
      "CPU times: user 376 µs, sys: 0 ns, total: 376 µs\n",
      "Wall time: 379 µs\n",
      "CPU times: user 113 µs, sys: 5 µs, total: 118 µs\n",
      "Wall time: 129 µs\n",
      "CPU times: user 136 µs, sys: 0 ns, total: 136 µs\n",
      "Wall time: 143 µs\n",
      "CPU times: user 206 µs, sys: 1e+03 ns, total: 207 µs\n",
      "Wall time: 211 µs\n",
      "CPU times: user 445 µs, sys: 0 ns, total: 445 µs\n",
      "Wall time: 467 µs\n"
     ]
    }
   ],
   "source": [
    "%time n = insert(0, onetwoeight)\n",
    "%time n = insert(0, sixteen)\n",
    "%time n = insert(0, thirtytwo)\n",
    "%time n = insert(0, sixtyfour)\n",
    "%time n = insert(0, onetwoeight)\n",
    "%time n = insert(8, sixteen)\n",
    "%time n = insert(16, thirtytwo)\n",
    "%time n = insert(32, sixtyfour)\n",
    "%time n = insert(64, onetwoeight)"
   ]
  },
  {
   "cell_type": "code",
   "execution_count": 63,
   "id": "9cc260cd",
   "metadata": {},
   "outputs": [
    {
     "name": "stdout",
     "output_type": "stream",
     "text": [
      "CPU times: user 3.45 ms, sys: 601 µs, total: 4.05 ms\n",
      "Wall time: 3.47 ms\n",
      "CPU times: user 3.34 ms, sys: 408 µs, total: 3.75 ms\n",
      "Wall time: 3.54 ms\n",
      "CPU times: user 1.41 ms, sys: 0 ns, total: 1.41 ms\n",
      "Wall time: 1.42 ms\n",
      "CPU times: user 727 µs, sys: 0 ns, total: 727 µs\n",
      "Wall time: 732 µs\n",
      "CPU times: user 630 µs, sys: 103 µs, total: 733 µs\n",
      "Wall time: 643 µs\n",
      "CPU times: user 3.53 ms, sys: 57 µs, total: 3.59 ms\n",
      "Wall time: 3.66 ms\n",
      "CPU times: user 1.6 ms, sys: 37 µs, total: 1.64 ms\n",
      "Wall time: 1.69 ms\n",
      "CPU times: user 723 µs, sys: 0 ns, total: 723 µs\n",
      "Wall time: 726 µs\n",
      "CPU times: user 412 µs, sys: 1e+03 ns, total: 413 µs\n",
      "Wall time: 418 µs\n"
     ]
    }
   ],
   "source": [
    "%time n = insert(0, tentwofour)\n",
    "%time n = insert(0, tentwofour)\n",
    "%time n = insert(0, fivetwelve)\n",
    "%time n = insert(0, twofiftysix)\n",
    "%time n = insert(0, onetwoeight)\n",
    "\n",
    "%time n = insert(512, tentwofour)\n",
    "%time n = insert(256, fivetwelve)\n",
    "%time n = insert(128, twofiftysix)\n",
    "%time n = insert(64, onetwoeight)"
   ]
  },
  {
   "cell_type": "code",
   "execution_count": 60,
   "id": "a8fa98bd",
   "metadata": {},
   "outputs": [
    {
     "name": "stdout",
     "output_type": "stream",
     "text": [
      "CPU times: user 3.68 ms, sys: 81 µs, total: 3.76 ms\n",
      "Wall time: 4.88 ms\n",
      "CPU times: user 807 µs, sys: 0 ns, total: 807 µs\n",
      "Wall time: 823 µs\n",
      "CPU times: user 812 µs, sys: 7 µs, total: 819 µs\n",
      "Wall time: 829 µs\n",
      "CPU times: user 2.31 ms, sys: 43 µs, total: 2.35 ms\n",
      "Wall time: 2.47 ms\n",
      "CPU times: user 3.92 ms, sys: 137 µs, total: 4.05 ms\n",
      "Wall time: 4.33 ms\n",
      "CPU times: user 418 µs, sys: 6 µs, total: 424 µs\n",
      "Wall time: 432 µs\n",
      "CPU times: user 676 µs, sys: 0 ns, total: 676 µs\n",
      "Wall time: 680 µs\n",
      "CPU times: user 1.36 ms, sys: 9 µs, total: 1.37 ms\n",
      "Wall time: 1.39 ms\n",
      "CPU times: user 2.77 ms, sys: 21 µs, total: 2.79 ms\n",
      "Wall time: 2.8 ms\n"
     ]
    }
   ],
   "source": [
    "%time n = insert(0, tentwofour)\n",
    "%time n = insert(0, onetwoeight)\n",
    "%time n = insert(0, twofiftysix)\n",
    "%time n = insert(0, fivetwelve)\n",
    "%time n = insert(0, tentwofour)\n",
    "\n",
    "%time n = insert(64, onetwoeight)\n",
    "%time n = insert(32, twofiftysix)\n",
    "%time n = insert(16, fivetwelve)\n",
    "%time n = insert(8, tentwofour)"
   ]
  },
  {
   "cell_type": "code",
   "execution_count": 72,
   "id": "6ea0dbae",
   "metadata": {},
   "outputs": [],
   "source": [
    "_20 = construct_tree(list(range(1,2**20)))\n",
    "_22 = construct_tree(list(range(1,2**22)))\n",
    "_24 = construct_tree(list(range(1,2**24)))"
   ]
  },
  {
   "cell_type": "code",
   "execution_count": 71,
   "id": "94705af1",
   "metadata": {},
   "outputs": [
    {
     "name": "stdout",
     "output_type": "stream",
     "text": [
      "CPU times: user 798 ms, sys: 710 ms, total: 1.51 s\n",
      "Wall time: 1.79 s\n",
      "CPU times: user 1.1 ms, sys: 5 µs, total: 1.11 ms\n",
      "Wall time: 1.12 ms\n",
      "CPU times: user 6.13 ms, sys: 4.12 ms, total: 10.2 ms\n",
      "Wall time: 11.4 ms\n",
      "CPU times: user 29.5 ms, sys: 11.6 ms, total: 41.1 ms\n",
      "Wall time: 42.9 ms\n",
      "CPU times: user 407 µs, sys: 1e+03 ns, total: 408 µs\n",
      "Wall time: 410 µs\n",
      "CPU times: user 1.63 ms, sys: 7 µs, total: 1.64 ms\n",
      "Wall time: 1.64 ms\n",
      "CPU times: user 6.76 ms, sys: 96 µs, total: 6.86 ms\n",
      "Wall time: 6.93 ms\n"
     ]
    }
   ],
   "source": [
    "%time n = insert(0, _20)\n",
    "%time n = insert(0, _20)\n",
    "%time n = insert(0, _22)\n",
    "%time n = insert(0, _24)\n",
    "\n",
    "%time n = insert(2**19, _20)\n",
    "%time n = insert(2**21, _22)\n",
    "%time n = insert(2**23, _24)"
   ]
  },
  {
   "cell_type": "code",
   "execution_count": 73,
   "id": "c0418320",
   "metadata": {},
   "outputs": [
    {
     "name": "stdout",
     "output_type": "stream",
     "text": [
      "CPU times: user 759 ms, sys: 276 ms, total: 1.03 s\n",
      "Wall time: 1.04 s\n",
      "CPU times: user 8 µs, sys: 0 ns, total: 8 µs\n",
      "Wall time: 9.78 µs\n",
      "CPU times: user 8 µs, sys: 0 ns, total: 8 µs\n",
      "Wall time: 9.06 µs\n",
      "CPU times: user 8 µs, sys: 0 ns, total: 8 µs\n",
      "Wall time: 11 µs\n",
      "CPU times: user 1.78 ms, sys: 1.3 ms, total: 3.08 ms\n",
      "Wall time: 2.72 ms\n",
      "CPU times: user 6.93 ms, sys: 4.33 ms, total: 11.3 ms\n",
      "Wall time: 11.3 ms\n",
      "CPU times: user 33.1 ms, sys: 16.7 ms, total: 49.8 ms\n",
      "Wall time: 49.9 ms\n",
      "CPU times: user 551 µs, sys: 7 µs, total: 558 µs\n",
      "Wall time: 564 µs\n",
      "CPU times: user 1.89 ms, sys: 4 µs, total: 1.89 ms\n",
      "Wall time: 1.9 ms\n",
      "CPU times: user 7.42 ms, sys: 127 µs, total: 7.55 ms\n",
      "Wall time: 7.66 ms\n"
     ]
    }
   ],
   "source": [
    "%time n = find_min(_24)\n",
    "%time n = find_min(_20)\n",
    "%time n = find_min(_22)\n",
    "%time n = find_min(_24)\n",
    "\n",
    "%time n = insert(0, _20)\n",
    "%time n = insert(0, _22)\n",
    "%time n = insert(0, _24)\n",
    "\n",
    "%time n = insert(2**19, _20)\n",
    "%time n = insert(2**21, _22)\n",
    "%time n = insert(2**23, _24)"
   ]
  },
  {
   "cell_type": "markdown",
   "id": "7cebee00",
   "metadata": {},
   "source": [
    "While the differences between subsequent functions should be constant since the log n difference is constant, it looks like this doesn't hold so well. It appears that the find_min function has a negligible impact from the number of elements or their log, while the insert function is strongly impacted by n (which can be deduced from the differences doubling for an n twice as large). I am not sure whether there is something in Python which might cause this, or whether my impelementation is just super inefficient."
   ]
  },
  {
   "cell_type": "markdown",
   "id": "68c5eaad",
   "metadata": {},
   "source": [
    "# 2\n",
    "Now I will investigate the runtime for extremely unbalanced worst case input trees."
   ]
  },
  {
   "cell_type": "code",
   "execution_count": 88,
   "id": "eec2ca54",
   "metadata": {},
   "outputs": [],
   "source": [
    "new1024 = construct_tree([1024])\n",
    "for num in range(1023, 1, -1):\n",
    "    new1024 = insert(num, new1024)\n",
    "\n",
    "new2048 = construct_tree([2048])\n",
    "for num in range(2047, 1, -1):\n",
    "    new2048 = insert(num, new2048)\n",
    "    \n",
    "new4096 = construct_tree([4096])\n",
    "for num in range(4095, 1, -1):\n",
    "    new4096 = insert(num, new4096)"
   ]
  },
  {
   "cell_type": "code",
   "execution_count": 89,
   "id": "cde27f66",
   "metadata": {},
   "outputs": [
    {
     "name": "stdout",
     "output_type": "stream",
     "text": [
      "CPU times: user 390 µs, sys: 267 µs, total: 657 µs\n",
      "Wall time: 1.13 ms\n",
      "CPU times: user 116 µs, sys: 1e+03 ns, total: 117 µs\n",
      "Wall time: 118 µs\n",
      "CPU times: user 191 µs, sys: 0 ns, total: 191 µs\n",
      "Wall time: 194 µs\n",
      "CPU times: user 384 µs, sys: 0 ns, total: 384 µs\n",
      "Wall time: 387 µs\n",
      "CPU times: user 194 µs, sys: 0 ns, total: 194 µs\n",
      "Wall time: 197 µs\n",
      "CPU times: user 356 µs, sys: 1 µs, total: 357 µs\n",
      "Wall time: 359 µs\n",
      "CPU times: user 758 µs, sys: 0 ns, total: 758 µs\n",
      "Wall time: 766 µs\n",
      "CPU times: user 169 µs, sys: 0 ns, total: 169 µs\n",
      "Wall time: 177 µs\n",
      "CPU times: user 295 µs, sys: 1e+03 ns, total: 296 µs\n",
      "Wall time: 302 µs\n",
      "CPU times: user 538 µs, sys: 9 µs, total: 547 µs\n",
      "Wall time: 552 µs\n"
     ]
    }
   ],
   "source": [
    "%time n = find_min(new2048)\n",
    "%time n = find_min(new1024)\n",
    "%time n = find_min(new2048)\n",
    "%time n = find_min(new4096)\n",
    "\n",
    "%time n = insert(0, new1024)\n",
    "%time n = insert(0, new2048)\n",
    "%time n = insert(0, new4096)\n",
    "\n",
    "%time n = insert(512, new1024)\n",
    "%time n = insert(1024, new2048)\n",
    "%time n = insert(2048, new4096)"
   ]
  },
  {
   "cell_type": "markdown",
   "id": "721543cd",
   "metadata": {},
   "source": [
    "With the worst case binary trees, the theoretical runtime complexity of O(n) seems to hold. The runtime difference between 2048 and 4096 is nearly double that between 1024 and 2048 for all the functions, as we would expect given their O(n) complexity."
   ]
  },
  {
   "cell_type": "markdown",
   "id": "28ee982b",
   "metadata": {},
   "source": [
    "# 3\n",
    "I first test a perfectly balanced tree, then a completely degenerate one, and finally I construct a completely random tree to not cheat by sorting it, which I build by inserting each element from a shuffled list, and test it as well."
   ]
  },
  {
   "cell_type": "markdown",
   "id": "25f8a4ae",
   "metadata": {},
   "source": [
    "## Balanced Tree"
   ]
  },
  {
   "cell_type": "code",
   "execution_count": 293,
   "id": "4743e901",
   "metadata": {},
   "outputs": [],
   "source": [
    "base_tree = construct_tree(list(range(1,1024)))"
   ]
  },
  {
   "cell_type": "code",
   "execution_count": 178,
   "id": "293177d0",
   "metadata": {},
   "outputs": [
    {
     "data": {
      "text/plain": [
       "1023"
      ]
     },
     "execution_count": 178,
     "metadata": {},
     "output_type": "execute_result"
    }
   ],
   "source": [
    "len(base_tree)"
   ]
  },
  {
   "cell_type": "code",
   "execution_count": 294,
   "id": "75122d14",
   "metadata": {},
   "outputs": [],
   "source": [
    "sorted_list = []\n",
    "for _ in range(len(base_tree)):\n",
    "    sorted_list.append(delete_min(base_tree)[0])"
   ]
  },
  {
   "cell_type": "code",
   "execution_count": 295,
   "id": "3140f4e5",
   "metadata": {},
   "outputs": [
    {
     "data": {
      "text/plain": [
       "[1,\n",
       " 21,\n",
       " 41,\n",
       " 61,\n",
       " 81,\n",
       " 101,\n",
       " 121,\n",
       " 141,\n",
       " 161,\n",
       " 181,\n",
       " 201,\n",
       " 221,\n",
       " 241,\n",
       " 261,\n",
       " 281,\n",
       " 301,\n",
       " 321,\n",
       " 341,\n",
       " 361,\n",
       " 381,\n",
       " 401,\n",
       " 421,\n",
       " 441,\n",
       " 461,\n",
       " 481,\n",
       " 501,\n",
       " 521,\n",
       " 541,\n",
       " 561,\n",
       " 581,\n",
       " 601,\n",
       " 621,\n",
       " 641,\n",
       " 661,\n",
       " 681,\n",
       " 701,\n",
       " 721,\n",
       " 741,\n",
       " 761,\n",
       " 781,\n",
       " 801,\n",
       " 821,\n",
       " 841,\n",
       " 861,\n",
       " 881,\n",
       " 901,\n",
       " 921,\n",
       " 941,\n",
       " 961,\n",
       " 981,\n",
       " 1001,\n",
       " 1021]"
      ]
     },
     "execution_count": 295,
     "metadata": {},
     "output_type": "execute_result"
    }
   ],
   "source": [
    "sorted_list[::20]"
   ]
  },
  {
   "cell_type": "code",
   "execution_count": 296,
   "id": "50f5e354",
   "metadata": {},
   "outputs": [
    {
     "data": {
      "text/plain": [
       "[]"
      ]
     },
     "execution_count": 296,
     "metadata": {},
     "output_type": "execute_result"
    }
   ],
   "source": [
    "base_tree"
   ]
  },
  {
   "cell_type": "markdown",
   "id": "050887b3",
   "metadata": {},
   "source": [
    "## Degenerate Tree"
   ]
  },
  {
   "cell_type": "code",
   "execution_count": 289,
   "id": "1b215043",
   "metadata": {},
   "outputs": [],
   "source": [
    "base_tree = construct_tree([1024])\n",
    "for num in range(1023, 0, -1):\n",
    "    base_tree = insert(num, base_tree)"
   ]
  },
  {
   "cell_type": "code",
   "execution_count": 290,
   "id": "f9e4ca33",
   "metadata": {},
   "outputs": [],
   "source": [
    "sorted_list = []\n",
    "for _ in range(len(base_tree)):\n",
    "    sorted_list.append(delete_min(base_tree)[0])"
   ]
  },
  {
   "cell_type": "code",
   "execution_count": 291,
   "id": "ed3aa6c8",
   "metadata": {},
   "outputs": [
    {
     "data": {
      "text/plain": [
       "[1,\n",
       " 21,\n",
       " 41,\n",
       " 61,\n",
       " 81,\n",
       " 101,\n",
       " 121,\n",
       " 141,\n",
       " 161,\n",
       " 181,\n",
       " 201,\n",
       " 221,\n",
       " 241,\n",
       " 261,\n",
       " 281,\n",
       " 301,\n",
       " 321,\n",
       " 341,\n",
       " 361,\n",
       " 381,\n",
       " 401,\n",
       " 421,\n",
       " 441,\n",
       " 461,\n",
       " 481,\n",
       " 501,\n",
       " 521,\n",
       " 541,\n",
       " 561,\n",
       " 581,\n",
       " 601,\n",
       " 621,\n",
       " 641,\n",
       " 661,\n",
       " 681,\n",
       " 701,\n",
       " 721,\n",
       " 741,\n",
       " 761,\n",
       " 781,\n",
       " 801,\n",
       " 821,\n",
       " 841,\n",
       " 861,\n",
       " 881,\n",
       " 901,\n",
       " 921,\n",
       " 941,\n",
       " 961,\n",
       " 981,\n",
       " 1001,\n",
       " 1021]"
      ]
     },
     "execution_count": 291,
     "metadata": {},
     "output_type": "execute_result"
    }
   ],
   "source": [
    "sorted_list[::20]"
   ]
  },
  {
   "cell_type": "code",
   "execution_count": 292,
   "id": "93567963",
   "metadata": {},
   "outputs": [
    {
     "data": {
      "text/plain": [
       "[]"
      ]
     },
     "execution_count": 292,
     "metadata": {},
     "output_type": "execute_result"
    }
   ],
   "source": [
    "base_tree"
   ]
  },
  {
   "cell_type": "markdown",
   "id": "bc6e1563",
   "metadata": {},
   "source": [
    "## Random Tree"
   ]
  },
  {
   "cell_type": "code",
   "execution_count": 90,
   "id": "c431cc59",
   "metadata": {},
   "outputs": [],
   "source": [
    "import random"
   ]
  },
  {
   "cell_type": "code",
   "execution_count": 97,
   "id": "2102b7d4",
   "metadata": {},
   "outputs": [],
   "source": [
    "to_sort = list(range(1, 256))\n",
    "random.shuffle(to_sort)"
   ]
  },
  {
   "cell_type": "code",
   "execution_count": 278,
   "id": "57841314",
   "metadata": {},
   "outputs": [],
   "source": [
    "base_tree = construct_tree([to_sort[0]])\n",
    "for num in to_sort[1:]:\n",
    "    base_tree = insert(num, base_tree)"
   ]
  },
  {
   "cell_type": "code",
   "execution_count": 241,
   "id": "e1b4220f",
   "metadata": {
    "scrolled": true
   },
   "outputs": [
    {
     "name": "stdout",
     "output_type": "stream",
     "text": [
      "78\n",
      "89\n",
      "102\n",
      "34\n",
      "119\n",
      "20\n",
      "233\n",
      "117\n",
      "24\n",
      "118\n",
      "236\n",
      "255\n",
      "193\n",
      "252\n",
      "48\n",
      "248\n",
      "49\n",
      "229\n",
      "230\n",
      "103\n",
      "247\n",
      "186\n",
      "104\n",
      "83\n",
      "237\n",
      "188\n",
      "73\n",
      "87\n",
      "249\n",
      "226\n",
      "133\n",
      "76\n",
      "132\n",
      "194\n",
      "240\n",
      "243\n",
      "191\n",
      "55\n",
      "197\n",
      "159\n",
      "235\n",
      "239\n",
      "158\n",
      "52\n",
      "53\n",
      "170\n"
     ]
    }
   ],
   "source": [
    "for num in to_sort:  # with old_insert()\n",
    "    if not exists(num, base_tree):\n",
    "        print(num)"
   ]
  },
  {
   "cell_type": "code",
   "execution_count": 265,
   "id": "5866a52f",
   "metadata": {},
   "outputs": [],
   "source": [
    "for num in to_sort:  # with insert()\n",
    "    if not exists(num, base_tree):\n",
    "        print(num)  # nothing is printed"
   ]
  },
  {
   "cell_type": "code",
   "execution_count": 273,
   "id": "99d6bd19",
   "metadata": {
    "scrolled": true
   },
   "outputs": [
    {
     "data": {
      "text/plain": [
       "[120, 153, 176, 130, 138, 2, 116, 199, 181, 28]"
      ]
     },
     "execution_count": 273,
     "metadata": {},
     "output_type": "execute_result"
    }
   ],
   "source": [
    "to_sort[:10]"
   ]
  },
  {
   "cell_type": "code",
   "execution_count": 275,
   "id": "7b00552d",
   "metadata": {},
   "outputs": [
    {
     "data": {
      "text/plain": [
       "[[120, 1, 120],\n",
       " [2, 1, 2],\n",
       " [1, None, None],\n",
       " [116, 1, 114],\n",
       " [28, 1, 26],\n",
       " [8, 1, 6],\n",
       " [5, 1, 3],\n",
       " [4, 1, None],\n",
       " [3, None, None],\n",
       " [7, 1, None]]"
      ]
     },
     "execution_count": 275,
     "metadata": {},
     "output_type": "execute_result"
    }
   ],
   "source": [
    "base_tree[:10]"
   ]
  },
  {
   "cell_type": "code",
   "execution_count": 279,
   "id": "51490838",
   "metadata": {},
   "outputs": [],
   "source": [
    "sorted_list = []"
   ]
  },
  {
   "cell_type": "code",
   "execution_count": 280,
   "id": "fdfedbfa",
   "metadata": {},
   "outputs": [],
   "source": [
    "for _ in range(len(base_tree)):\n",
    "    sorted_list.append(delete_min(base_tree)[0])"
   ]
  },
  {
   "cell_type": "code",
   "execution_count": 191,
   "id": "8cb9914e",
   "metadata": {},
   "outputs": [
    {
     "data": {
      "text/plain": [
       "[1,\n",
       " 2,\n",
       " 3,\n",
       " 4,\n",
       " 5,\n",
       " 6,\n",
       " 7,\n",
       " 8,\n",
       " 9,\n",
       " 10,\n",
       " 11,\n",
       " 12,\n",
       " 13,\n",
       " 14,\n",
       " 15,\n",
       " 16,\n",
       " 17,\n",
       " 18,\n",
       " 19,\n",
       " 21,\n",
       " 23,\n",
       " 25,\n",
       " 26,\n",
       " 27,\n",
       " 24,\n",
       " 22,\n",
       " 20,\n",
       " 28,\n",
       " 29,\n",
       " 30,\n",
       " 31,\n",
       " 32,\n",
       " 33,\n",
       " 35,\n",
       " 36,\n",
       " 37,\n",
       " 38,\n",
       " 39,\n",
       " 40,\n",
       " 41,\n",
       " 42,\n",
       " 43,\n",
       " 44,\n",
       " 45,\n",
       " 46,\n",
       " 54,\n",
       " 47,\n",
       " 50,\n",
       " 52,\n",
       " 53,\n",
       " 55,\n",
       " 51,\n",
       " 48,\n",
       " 49,\n",
       " 56,\n",
       " 57,\n",
       " 58,\n",
       " 59,\n",
       " 60,\n",
       " 61,\n",
       " 62,\n",
       " 63,\n",
       " 64,\n",
       " 65,\n",
       " 66,\n",
       " 67,\n",
       " 68,\n",
       " 69,\n",
       " 70,\n",
       " 71,\n",
       " 72,\n",
       " 75,\n",
       " 76,\n",
       " 74,\n",
       " 73,\n",
       " 77,\n",
       " 79,\n",
       " 80,\n",
       " 81,\n",
       " 82,\n",
       " 86,\n",
       " 84,\n",
       " 87,\n",
       " 85,\n",
       " 83,\n",
       " 88,\n",
       " 90,\n",
       " 91,\n",
       " 92,\n",
       " 93,\n",
       " 94,\n",
       " 95,\n",
       " 96,\n",
       " 97,\n",
       " 98,\n",
       " 99,\n",
       " 100,\n",
       " 101,\n",
       " 106,\n",
       " 107,\n",
       " 108,\n",
       " 109,\n",
       " 110,\n",
       " 111,\n",
       " 112,\n",
       " 105,\n",
       " 103,\n",
       " 104,\n",
       " 113,\n",
       " 114,\n",
       " 115,\n",
       " 117,\n",
       " 118,\n",
       " 119,\n",
       " 116,\n",
       " 34,\n",
       " 78,\n",
       " 89,\n",
       " 102,\n",
       " 120,\n",
       " 121,\n",
       " 122,\n",
       " 123,\n",
       " 124,\n",
       " 125,\n",
       " 126,\n",
       " 127,\n",
       " 128,\n",
       " 129,\n",
       " 130,\n",
       " 131,\n",
       " 136,\n",
       " 137,\n",
       " 134,\n",
       " 135,\n",
       " 132,\n",
       " 133,\n",
       " 138,\n",
       " 139,\n",
       " 140,\n",
       " 141,\n",
       " 142,\n",
       " 143,\n",
       " 144,\n",
       " 145,\n",
       " 146,\n",
       " 147,\n",
       " 148,\n",
       " 149,\n",
       " 150,\n",
       " 151,\n",
       " 152,\n",
       " 153,\n",
       " 154,\n",
       " 155,\n",
       " 156,\n",
       " 157,\n",
       " 161,\n",
       " 160,\n",
       " 158,\n",
       " 159,\n",
       " 162,\n",
       " 163,\n",
       " 164,\n",
       " 165,\n",
       " 166,\n",
       " 167,\n",
       " 168,\n",
       " 169,\n",
       " 172,\n",
       " 171,\n",
       " 170,\n",
       " 173,\n",
       " 174,\n",
       " 175,\n",
       " 176,\n",
       " 177,\n",
       " 178,\n",
       " 179,\n",
       " 180,\n",
       " 181,\n",
       " 182,\n",
       " 183,\n",
       " 184,\n",
       " 185,\n",
       " 187,\n",
       " 197,\n",
       " 189,\n",
       " 188,\n",
       " 190,\n",
       " 192,\n",
       " 198,\n",
       " 195,\n",
       " 196,\n",
       " 186,\n",
       " 191,\n",
       " 193,\n",
       " 194,\n",
       " 199,\n",
       " 200,\n",
       " 201,\n",
       " 202,\n",
       " 203,\n",
       " 204,\n",
       " 205,\n",
       " 206,\n",
       " 207,\n",
       " 208,\n",
       " 209,\n",
       " 210,\n",
       " 211,\n",
       " 212,\n",
       " 213,\n",
       " 214,\n",
       " 215,\n",
       " 216,\n",
       " 217,\n",
       " 218,\n",
       " 219,\n",
       " 220,\n",
       " 221,\n",
       " 222,\n",
       " 223,\n",
       " 224,\n",
       " 225,\n",
       " 227,\n",
       " 228,\n",
       " 231,\n",
       " 232,\n",
       " 241,\n",
       " 242,\n",
       " 235,\n",
       " 239,\n",
       " 234,\n",
       " 243,\n",
       " 240,\n",
       " 238,\n",
       " 226,\n",
       " 246,\n",
       " 250,\n",
       " 251,\n",
       " 253,\n",
       " 254,\n",
       " 229,\n",
       " 230,\n",
       " 237,\n",
       " 247,\n",
       " 249,\n",
       " 248,\n",
       " 252,\n",
       " 255,\n",
       " 244,\n",
       " 245,\n",
       " 233,\n",
       " 236]"
      ]
     },
     "execution_count": 191,
     "metadata": {},
     "output_type": "execute_result"
    }
   ],
   "source": [
    "sorted_list  # with old_insert()"
   ]
  },
  {
   "cell_type": "code",
   "execution_count": 268,
   "id": "9b6312c2",
   "metadata": {},
   "outputs": [
    {
     "data": {
      "text/plain": [
       "[1,\n",
       " 2,\n",
       " 3,\n",
       " 4,\n",
       " 5,\n",
       " 6,\n",
       " 7,\n",
       " 8,\n",
       " 9,\n",
       " 10,\n",
       " 11,\n",
       " 12,\n",
       " 13,\n",
       " 14,\n",
       " 15,\n",
       " 16,\n",
       " 17,\n",
       " 18,\n",
       " 19,\n",
       " 20,\n",
       " 21,\n",
       " 22,\n",
       " 23,\n",
       " 24,\n",
       " 25,\n",
       " 26,\n",
       " 27,\n",
       " 28,\n",
       " 29,\n",
       " 30,\n",
       " 31,\n",
       " 32,\n",
       " 33,\n",
       " 34,\n",
       " 35,\n",
       " 36,\n",
       " 37,\n",
       " 38,\n",
       " 39,\n",
       " 40,\n",
       " 41,\n",
       " 42,\n",
       " 43,\n",
       " 44,\n",
       " 45,\n",
       " 46,\n",
       " 47,\n",
       " 48,\n",
       " 49,\n",
       " 50,\n",
       " 51,\n",
       " 52,\n",
       " 53,\n",
       " 54,\n",
       " 55,\n",
       " 56,\n",
       " 57,\n",
       " 58,\n",
       " 59,\n",
       " 60,\n",
       " 61,\n",
       " 62,\n",
       " 63,\n",
       " 64,\n",
       " 65,\n",
       " 66,\n",
       " 67,\n",
       " 68,\n",
       " 69,\n",
       " 70,\n",
       " 71,\n",
       " 72,\n",
       " 73,\n",
       " 74,\n",
       " 75,\n",
       " 76,\n",
       " 77,\n",
       " 78,\n",
       " 79,\n",
       " 80,\n",
       " 81,\n",
       " 82,\n",
       " 83,\n",
       " 84,\n",
       " 85,\n",
       " 86,\n",
       " 87,\n",
       " 88,\n",
       " 89,\n",
       " 90,\n",
       " 91,\n",
       " 92,\n",
       " 93,\n",
       " 94,\n",
       " 95,\n",
       " 96,\n",
       " 97,\n",
       " 98,\n",
       " 99,\n",
       " 100,\n",
       " 101,\n",
       " 102,\n",
       " 103,\n",
       " 104,\n",
       " 105,\n",
       " 106,\n",
       " 107,\n",
       " 108,\n",
       " 109,\n",
       " 110,\n",
       " 111,\n",
       " 112,\n",
       " 113,\n",
       " 114,\n",
       " 115,\n",
       " 116,\n",
       " 117,\n",
       " 118,\n",
       " 119,\n",
       " 120,\n",
       " 121,\n",
       " 122,\n",
       " 123,\n",
       " 124,\n",
       " 125,\n",
       " 126,\n",
       " 127,\n",
       " 128,\n",
       " 129,\n",
       " 130,\n",
       " 131,\n",
       " 132,\n",
       " 133,\n",
       " 134,\n",
       " 135,\n",
       " 136,\n",
       " 137,\n",
       " 138,\n",
       " 139,\n",
       " 140,\n",
       " 141,\n",
       " 142,\n",
       " 143,\n",
       " 144,\n",
       " 145,\n",
       " 146,\n",
       " 147,\n",
       " 148,\n",
       " 149,\n",
       " 150,\n",
       " 151,\n",
       " 152,\n",
       " 153,\n",
       " 154,\n",
       " 155,\n",
       " 156,\n",
       " 157,\n",
       " 158,\n",
       " 159,\n",
       " 160,\n",
       " 161,\n",
       " 162,\n",
       " 163,\n",
       " 164,\n",
       " 165,\n",
       " 166,\n",
       " 167,\n",
       " 168,\n",
       " 169,\n",
       " 170,\n",
       " 171,\n",
       " 172,\n",
       " 173,\n",
       " 174,\n",
       " 175,\n",
       " 176,\n",
       " 177,\n",
       " 178,\n",
       " 179,\n",
       " 180,\n",
       " 181,\n",
       " 182,\n",
       " 183,\n",
       " 184,\n",
       " 185,\n",
       " 186,\n",
       " 187,\n",
       " 188,\n",
       " 189,\n",
       " 190,\n",
       " 191,\n",
       " 192,\n",
       " 193,\n",
       " 194,\n",
       " 195,\n",
       " 196,\n",
       " 197,\n",
       " 198,\n",
       " 199,\n",
       " 200,\n",
       " 201,\n",
       " 202,\n",
       " 203,\n",
       " 204,\n",
       " 205,\n",
       " 206,\n",
       " 207,\n",
       " 208,\n",
       " 209,\n",
       " 210,\n",
       " 211,\n",
       " 212,\n",
       " 213,\n",
       " 214,\n",
       " 215,\n",
       " 216,\n",
       " 217,\n",
       " 218,\n",
       " 219,\n",
       " 220,\n",
       " 221,\n",
       " 222,\n",
       " 223,\n",
       " 224,\n",
       " 225,\n",
       " 226,\n",
       " 227,\n",
       " 228,\n",
       " 229,\n",
       " 230,\n",
       " 231,\n",
       " 232,\n",
       " 233,\n",
       " 234,\n",
       " 235,\n",
       " 236,\n",
       " 237,\n",
       " 238,\n",
       " 239,\n",
       " 240,\n",
       " 241,\n",
       " 242,\n",
       " 243,\n",
       " 244,\n",
       " 245,\n",
       " 246,\n",
       " 247,\n",
       " 248,\n",
       " 249,\n",
       " 250,\n",
       " 251,\n",
       " 252,\n",
       " 253,\n",
       " 254,\n",
       " 255]"
      ]
     },
     "execution_count": 268,
     "metadata": {},
     "output_type": "execute_result"
    }
   ],
   "source": [
    "sorted_list  # with insert()"
   ]
  },
  {
   "cell_type": "code",
   "execution_count": 281,
   "id": "cfc09afb",
   "metadata": {
    "scrolled": true
   },
   "outputs": [
    {
     "data": {
      "text/plain": [
       "[]"
      ]
     },
     "execution_count": 281,
     "metadata": {},
     "output_type": "execute_result"
    }
   ],
   "source": [
    "base_tree"
   ]
  },
  {
   "cell_type": "markdown",
   "id": "f2d30d5b",
   "metadata": {},
   "source": [
    "Now to try it with the full 1024 list"
   ]
  },
  {
   "cell_type": "code",
   "execution_count": 282,
   "id": "99440da6",
   "metadata": {},
   "outputs": [],
   "source": [
    "to_sort = list(range(1, 1024))\n",
    "random.shuffle(to_sort)"
   ]
  },
  {
   "cell_type": "code",
   "execution_count": 283,
   "id": "36752ba0",
   "metadata": {},
   "outputs": [],
   "source": [
    "base_tree = construct_tree([to_sort[0]])\n",
    "for num in to_sort[1:]:\n",
    "    base_tree = insert(num, base_tree)"
   ]
  },
  {
   "cell_type": "code",
   "execution_count": 284,
   "id": "11891689",
   "metadata": {},
   "outputs": [],
   "source": [
    "sorted_list = []"
   ]
  },
  {
   "cell_type": "code",
   "execution_count": 285,
   "id": "cd239795",
   "metadata": {},
   "outputs": [],
   "source": [
    "for _ in range(len(base_tree)):\n",
    "    sorted_list.append(delete_min(base_tree)[0])"
   ]
  },
  {
   "cell_type": "code",
   "execution_count": 288,
   "id": "ec968c1a",
   "metadata": {},
   "outputs": [
    {
     "data": {
      "text/plain": [
       "[1,\n",
       " 21,\n",
       " 41,\n",
       " 61,\n",
       " 81,\n",
       " 101,\n",
       " 121,\n",
       " 141,\n",
       " 161,\n",
       " 181,\n",
       " 201,\n",
       " 221,\n",
       " 241,\n",
       " 261,\n",
       " 281,\n",
       " 301,\n",
       " 321,\n",
       " 341,\n",
       " 361,\n",
       " 381,\n",
       " 401,\n",
       " 421,\n",
       " 441,\n",
       " 461,\n",
       " 481,\n",
       " 501,\n",
       " 521,\n",
       " 541,\n",
       " 561,\n",
       " 581,\n",
       " 601,\n",
       " 621,\n",
       " 641,\n",
       " 661,\n",
       " 681,\n",
       " 701,\n",
       " 721,\n",
       " 741,\n",
       " 761,\n",
       " 781,\n",
       " 801,\n",
       " 821,\n",
       " 841,\n",
       " 861,\n",
       " 881,\n",
       " 901,\n",
       " 921,\n",
       " 941,\n",
       " 961,\n",
       " 981,\n",
       " 1001,\n",
       " 1021]"
      ]
     },
     "execution_count": 288,
     "metadata": {},
     "output_type": "execute_result"
    }
   ],
   "source": [
    "sorted_list[::20]"
   ]
  },
  {
   "cell_type": "code",
   "execution_count": null,
   "id": "b1f9ad12",
   "metadata": {},
   "outputs": [],
   "source": []
  }
 ],
 "metadata": {
  "kernelspec": {
   "display_name": "Python 3 (ipykernel)",
   "language": "python",
   "name": "python3"
  },
  "language_info": {
   "codemirror_mode": {
    "name": "ipython",
    "version": 3
   },
   "file_extension": ".py",
   "mimetype": "text/x-python",
   "name": "python",
   "nbconvert_exporter": "python",
   "pygments_lexer": "ipython3",
   "version": "3.8.10"
  }
 },
 "nbformat": 4,
 "nbformat_minor": 5
}
