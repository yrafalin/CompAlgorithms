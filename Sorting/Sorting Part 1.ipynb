{
 "cells": [
  {
   "cell_type": "markdown",
   "id": "23844af1",
   "metadata": {},
   "source": [
    "## Option 3: Insertion Sort Running Time"
   ]
  },
  {
   "cell_type": "markdown",
   "id": "47e6906c",
   "metadata": {},
   "source": [
    "Since Insertion Sort has to compare the ith element to the previous element to check if it goes in the sorted sublist, there is one comparison for each element except the first, so at minimum there would be n-1 comparisons for a best case running time of $\\theta$(n). The best case would be a sorted list because no swaps have to be made.\n",
    "\n",
    "For the worst case running time, the sort has to swap the ith element the maximum number of times. This would mean moving it from its position at the end of the sublist to the first position in the sublist. For the ith iteration, this would require i-1 swaps, and i-1 comparisons. Since this is done n-1 times, this can be expressed as the summation $\\sum_{i=2}^{n} i-1 = \\frac{n(n+1)}{2} - n$ (where subtracting n adjusts for the -1 in the summand term). This equals $\\frac{n^2+n}{2} - \\frac{2n}{2} = \\frac{n^2+n-2n}{2} = \\frac{n^2-n}{2}$ for a worst case running time of $\\theta(n^2)$. The worst case unsorted list would be a reversed one because to sort it would mean swapping each element with all the previous elements to put it in place."
   ]
  },
  {
   "cell_type": "markdown",
   "id": "5463a615",
   "metadata": {},
   "source": [
    "## Option 4: Implementing Insertion Sort"
   ]
  },
  {
   "cell_type": "code",
   "execution_count": 79,
   "id": "adb9a69c",
   "metadata": {},
   "outputs": [],
   "source": [
    "test_list = [2, 2, 4, 3, 1]"
   ]
  },
  {
   "cell_type": "code",
   "execution_count": 104,
   "id": "e8dc2d70",
   "metadata": {},
   "outputs": [],
   "source": [
    "def insertion_sort(unsorted_list):\n",
    "    to_sort_list = copy(unsorted_list)\n",
    "    for i in range(1, len(to_sort_list)):\n",
    "        idx = i\n",
    "        for j in range(i, 0, -1):\n",
    "            if to_sort_list[idx] >= to_sort_list[j-1]:\n",
    "                break\n",
    "            else:\n",
    "                # swap\n",
    "                second_element = to_sort_list[j-1]\n",
    "                to_sort_list[j-1] = to_sort_list[idx]\n",
    "                to_sort_list[idx] = second_element\n",
    "                idx -= 1\n",
    "    return to_sort_list"
   ]
  },
  {
   "cell_type": "code",
   "execution_count": 81,
   "id": "7ed984a6",
   "metadata": {},
   "outputs": [
    {
     "data": {
      "text/plain": [
       "[1, 2, 2, 3, 4]"
      ]
     },
     "execution_count": 81,
     "metadata": {},
     "output_type": "execute_result"
    }
   ],
   "source": [
    "insertion_sort(test_list)"
   ]
  },
  {
   "cell_type": "code",
   "execution_count": 82,
   "id": "1b6b7128",
   "metadata": {},
   "outputs": [
    {
     "data": {
      "text/plain": [
       "[2, 2, 4, 3, 1]"
      ]
     },
     "execution_count": 82,
     "metadata": {},
     "output_type": "execute_result"
    }
   ],
   "source": [
    "test_list"
   ]
  },
  {
   "cell_type": "markdown",
   "id": "b3955d9b",
   "metadata": {},
   "source": [
    "Fully in-place!"
   ]
  },
  {
   "cell_type": "markdown",
   "id": "dc9fb1fc",
   "metadata": {},
   "source": [
    "## Option 6: Counting Sort Running Time"
   ]
  },
  {
   "cell_type": "markdown",
   "id": "4a7209de",
   "metadata": {},
   "source": [
    "The analysis can be done based on the for loops used in the implementation. The first loop loops through all the elements finding the max. This is n operations. The next loop counts the integers and operates on each element in the list, which is n operations. The last loop creates the final list and loops through every count in the tabulator, which is of length r. Thus the number of operations is 2n+r which is a running time of $\\theta(n+r)$."
   ]
  },
  {
   "cell_type": "markdown",
   "id": "bb20daec",
   "metadata": {},
   "source": [
    "## Option 7: Implementing Counting Sort"
   ]
  },
  {
   "cell_type": "code",
   "execution_count": 105,
   "id": "0f415166",
   "metadata": {},
   "outputs": [],
   "source": [
    "def counting_sort(unsorted_list):\n",
    "    # finding max\n",
    "    current_max = 0\n",
    "    for element in unsorted_list:\n",
    "        if element > current_max:\n",
    "            current_max = element\n",
    "    tabulator = dict(zip(range(current_max+1), (current_max+1)*[0]))\n",
    "    for i in unsorted_list:\n",
    "        tabulator[i] += 1\n",
    "    sorted_list = []\n",
    "    for num in tabulator:\n",
    "        sorted_list.extend(tabulator[num]*[num])\n",
    "    return sorted_list"
   ]
  },
  {
   "cell_type": "code",
   "execution_count": 25,
   "id": "2fa560bb",
   "metadata": {},
   "outputs": [
    {
     "data": {
      "text/plain": [
       "[1, 2, 2, 3, 4]"
      ]
     },
     "execution_count": 25,
     "metadata": {},
     "output_type": "execute_result"
    }
   ],
   "source": [
    "counting_sort(test_list)"
   ]
  },
  {
   "cell_type": "markdown",
   "id": "2e0e2bbf",
   "metadata": {},
   "source": [
    "## Option 8: Implementing Radix Sort"
   ]
  },
  {
   "cell_type": "code",
   "execution_count": 29,
   "id": "c781b179",
   "metadata": {},
   "outputs": [],
   "source": [
    "big_test_list = [1052, 31, 33, 2, 760]"
   ]
  },
  {
   "cell_type": "code",
   "execution_count": 106,
   "id": "13f6f87d",
   "metadata": {},
   "outputs": [],
   "source": [
    "def radix_sort(unsorted_list):\n",
    "    current_max = 0\n",
    "    to_sort_list = copy(unsorted_list)\n",
    "    for i in range(len(to_sort_list)):\n",
    "        to_sort_list[i] = [int(d) for d in str(to_sort_list[i])]  # https://stackoverflow.com/questions/21270320/turn-a-single-number-into-single-digits-python?noredirect=1&lq=1\n",
    "        if len(to_sort_list[i]) > current_max: current_max = len(to_sort_list[i])\n",
    "    for i in range(len(to_sort_list)):\n",
    "        if len(to_sort_list[i]) < current_max:\n",
    "            to_sort_list[i] = ((current_max-len(to_sort_list[i]))*[0])+(to_sort_list[i])\n",
    "    \n",
    "    for d in range(1,current_max+1):\n",
    "        tabulator = [[],[],[],[],[],[],[],[],[],[]]\n",
    "        for i in to_sort_list:\n",
    "            tabulator[i[-d]].append(i)\n",
    "        to_sort_list = []\n",
    "        for num in tabulator:\n",
    "            to_sort_list.extend(num)\n",
    "    for i in range(len(to_sort_list)):\n",
    "        to_sort_list[i] = int(''.join(list(map(str, to_sort_list[i]))))\n",
    "    return to_sort_list"
   ]
  },
  {
   "cell_type": "code",
   "execution_count": 88,
   "id": "278e8792",
   "metadata": {},
   "outputs": [
    {
     "data": {
      "text/plain": [
       "[2, 31, 33, 760, 1052]"
      ]
     },
     "execution_count": 88,
     "metadata": {},
     "output_type": "execute_result"
    }
   ],
   "source": [
    "radix_sort(big_test_list)"
   ]
  },
  {
   "cell_type": "code",
   "execution_count": 4,
   "id": "526118e4",
   "metadata": {},
   "outputs": [],
   "source": [
    "# https://stackoverflow.com/questions/63080645/padding-a-list-of-lists-to-make-it-equal-to-the-size-of-the-largest-list\n",
    "import itertools\n",
    "\n",
    "sents = [[\"Hello\",\"World\"],[\"Where\",\"are\",\"you\"],[\"I\",\"am\",\"doing\",\"fine\"]]\n",
    "pad_token = 0\n",
    "\n",
    "padded = zip(*itertools.zip_longest(*sents, fillvalue=pad_token))"
   ]
  },
  {
   "cell_type": "code",
   "execution_count": 12,
   "id": "5a93e1a9",
   "metadata": {},
   "outputs": [],
   "source": [
    "from copy import copy"
   ]
  },
  {
   "cell_type": "code",
   "execution_count": 33,
   "id": "5c9e0169",
   "metadata": {},
   "outputs": [
    {
     "data": {
      "text/plain": [
       "[0, 0, 0, 0, 0, 0, 0, 0, 0, 0]"
      ]
     },
     "execution_count": 33,
     "metadata": {},
     "output_type": "execute_result"
    }
   ],
   "source": [
    "10*[0]"
   ]
  },
  {
   "cell_type": "code",
   "execution_count": 42,
   "id": "5fd7eb4a",
   "metadata": {},
   "outputs": [
    {
     "data": {
      "text/plain": [
       "1"
      ]
     },
     "execution_count": 42,
     "metadata": {},
     "output_type": "execute_result"
    }
   ],
   "source": [
    "[1,2,3][-3]"
   ]
  },
  {
   "cell_type": "code",
   "execution_count": 45,
   "id": "76bb78d2",
   "metadata": {},
   "outputs": [
    {
     "data": {
      "text/plain": [
       "[1, 2, 3, 4, 5, 6]"
      ]
     },
     "execution_count": 45,
     "metadata": {},
     "output_type": "execute_result"
    }
   ],
   "source": [
    "[1,2,3]+[4,5,6]"
   ]
  },
  {
   "cell_type": "code",
   "execution_count": 54,
   "id": "ef74a67b",
   "metadata": {},
   "outputs": [
    {
     "data": {
      "text/plain": [
       "[(0, 0),\n",
       " (1, 0),\n",
       " (2, 0),\n",
       " (3, 0),\n",
       " (4, 0),\n",
       " (5, 0),\n",
       " (6, 0),\n",
       " (7, 0),\n",
       " (8, 0),\n",
       " (9, 0)]"
      ]
     },
     "execution_count": 54,
     "metadata": {},
     "output_type": "execute_result"
    }
   ],
   "source": [
    "list(zip(range(10), 10*[0]))"
   ]
  },
  {
   "cell_type": "code",
   "execution_count": 59,
   "id": "bd6aad5a",
   "metadata": {},
   "outputs": [
    {
     "data": {
      "text/plain": [
       "[[], [], [], [], [], [], [], [], [], []]"
      ]
     },
     "execution_count": 59,
     "metadata": {},
     "output_type": "execute_result"
    }
   ],
   "source": [
    "[[],[],[],[],[],[],[],[],[],[]]"
   ]
  },
  {
   "cell_type": "markdown",
   "id": "1c0ff296",
   "metadata": {},
   "source": [
    "The run-time complexity for radix sort is n for finding the max, plus n for padding the numbers, plus d\\*n+(r=base) for the actual sorting. This comes out to 2n + d\\*(n+r) = $\\theta(d*(n+r))$.\n",
    "\n",
    "Here I compare each algorithm's performance on large scale lists."
   ]
  },
  {
   "cell_type": "code",
   "execution_count": 65,
   "id": "626056a9",
   "metadata": {},
   "outputs": [],
   "source": [
    "import random\n",
    "superbig_test_list = [random.randint(0,10000) for _ in range(20)]"
   ]
  },
  {
   "cell_type": "code",
   "execution_count": 89,
   "id": "c4a617de",
   "metadata": {},
   "outputs": [],
   "source": [
    "superbig_test_list = [1811,\n",
    " 1077,\n",
    " 2033,\n",
    " 8027,\n",
    " 2100,\n",
    " 8827,\n",
    " 1325,\n",
    " 137,\n",
    " 3376,\n",
    " 462,\n",
    " 2401,\n",
    " 6810,\n",
    " 2156,\n",
    " 4082,\n",
    " 7018,\n",
    " 9250,\n",
    " 6355,\n",
    " 2464,\n",
    " 2369,\n",
    " 4064]"
   ]
  },
  {
   "cell_type": "code",
   "execution_count": 97,
   "id": "c119285e",
   "metadata": {},
   "outputs": [
    {
     "name": "stdout",
     "output_type": "stream",
     "text": [
      "CPU times: user 3.13 ms, sys: 939 µs, total: 4.07 ms\n",
      "Wall time: 3.2 ms\n",
      "CPU times: user 178 µs, sys: 1 µs, total: 179 µs\n",
      "Wall time: 185 µs\n",
      "CPU times: user 36 µs, sys: 0 ns, total: 36 µs\n",
      "Wall time: 41 µs\n"
     ]
    }
   ],
   "source": [
    "%time n = counting_sort(superbig_test_list)\n",
    "%time n = radix_sort(superbig_test_list)\n",
    "%time n = insertion_sort(superbig_test_list)"
   ]
  },
  {
   "cell_type": "code",
   "execution_count": 98,
   "id": "917b832a",
   "metadata": {},
   "outputs": [],
   "source": [
    "uberbig_test_list = [random.randint(0,100000) for _ in range(10000)]"
   ]
  },
  {
   "cell_type": "code",
   "execution_count": 99,
   "id": "3770223d",
   "metadata": {},
   "outputs": [
    {
     "name": "stdout",
     "output_type": "stream",
     "text": [
      "CPU times: user 30.9 ms, sys: 24.6 ms, total: 55.5 ms\n",
      "Wall time: 99.8 ms\n",
      "CPU times: user 125 ms, sys: 186 ms, total: 311 ms\n",
      "Wall time: 604 ms\n",
      "CPU times: user 7.09 s, sys: 25.1 ms, total: 7.11 s\n",
      "Wall time: 7.16 s\n"
     ]
    }
   ],
   "source": [
    "%time n = counting_sort(uberbig_test_list)\n",
    "%time n = radix_sort(uberbig_test_list)\n",
    "%time n = insertion_sort(uberbig_test_list)"
   ]
  },
  {
   "cell_type": "code",
   "execution_count": 107,
   "id": "bf9e01bc",
   "metadata": {},
   "outputs": [],
   "source": [
    "uberlong_test_list = [random.randint(0,10000) for _ in range(100000)]"
   ]
  },
  {
   "cell_type": "code",
   "execution_count": 108,
   "id": "50b2f43f",
   "metadata": {},
   "outputs": [
    {
     "name": "stdout",
     "output_type": "stream",
     "text": [
      "CPU times: user 18 ms, sys: 3.23 ms, total: 21.3 ms\n",
      "Wall time: 26.6 ms\n",
      "CPU times: user 524 ms, sys: 94.6 ms, total: 619 ms\n",
      "Wall time: 786 ms\n"
     ]
    },
    {
     "ename": "KeyboardInterrupt",
     "evalue": "",
     "output_type": "error",
     "traceback": [
      "\u001b[0;31m---------------------------------------------------------------------------\u001b[0m",
      "\u001b[0;31mKeyboardInterrupt\u001b[0m                         Traceback (most recent call last)",
      "\u001b[0;32m<timed exec>\u001b[0m in \u001b[0;36m<module>\u001b[0;34m\u001b[0m\n",
      "\u001b[0;32m/var/folders/wv/qq_g2w2s5rgbz4cj72qrj6m00000gq/T/ipykernel_96466/2676469741.py\u001b[0m in \u001b[0;36minsertion_sort\u001b[0;34m(unsorted_list)\u001b[0m\n\u001b[1;32m      8\u001b[0m             \u001b[0;32melse\u001b[0m\u001b[0;34m:\u001b[0m\u001b[0;34m\u001b[0m\u001b[0;34m\u001b[0m\u001b[0m\n\u001b[1;32m      9\u001b[0m                 \u001b[0;31m# swap\u001b[0m\u001b[0;34m\u001b[0m\u001b[0;34m\u001b[0m\u001b[0;34m\u001b[0m\u001b[0m\n\u001b[0;32m---> 10\u001b[0;31m                 \u001b[0msecond_element\u001b[0m \u001b[0;34m=\u001b[0m \u001b[0mto_sort_list\u001b[0m\u001b[0;34m[\u001b[0m\u001b[0mj\u001b[0m\u001b[0;34m-\u001b[0m\u001b[0;36m1\u001b[0m\u001b[0;34m]\u001b[0m\u001b[0;34m\u001b[0m\u001b[0;34m\u001b[0m\u001b[0m\n\u001b[0m\u001b[1;32m     11\u001b[0m                 \u001b[0mto_sort_list\u001b[0m\u001b[0;34m[\u001b[0m\u001b[0mj\u001b[0m\u001b[0;34m-\u001b[0m\u001b[0;36m1\u001b[0m\u001b[0;34m]\u001b[0m \u001b[0;34m=\u001b[0m \u001b[0mto_sort_list\u001b[0m\u001b[0;34m[\u001b[0m\u001b[0midx\u001b[0m\u001b[0;34m]\u001b[0m\u001b[0;34m\u001b[0m\u001b[0;34m\u001b[0m\u001b[0m\n\u001b[1;32m     12\u001b[0m                 \u001b[0mto_sort_list\u001b[0m\u001b[0;34m[\u001b[0m\u001b[0midx\u001b[0m\u001b[0;34m]\u001b[0m \u001b[0;34m=\u001b[0m \u001b[0msecond_element\u001b[0m\u001b[0;34m\u001b[0m\u001b[0;34m\u001b[0m\u001b[0m\n",
      "\u001b[0;31mKeyboardInterrupt\u001b[0m: "
     ]
    }
   ],
   "source": [
    "%time n = counting_sort(uberlong_test_list)\n",
    "%time n = radix_sort(uberlong_test_list)\n",
    "%time n = insertion_sort(uberlong_test_list)"
   ]
  },
  {
   "cell_type": "markdown",
   "id": "f027c48b",
   "metadata": {},
   "source": [
    "^(Insertion sort had to be interrupted for taking too long)^"
   ]
  },
  {
   "cell_type": "code",
   "execution_count": 101,
   "id": "c3cc91c1",
   "metadata": {},
   "outputs": [],
   "source": [
    "uberwide_test_list = [random.randint(0,10000000) for _ in range(10000)]"
   ]
  },
  {
   "cell_type": "code",
   "execution_count": 103,
   "id": "5bced811",
   "metadata": {},
   "outputs": [
    {
     "name": "stdout",
     "output_type": "stream",
     "text": [
      "CPU times: user 2.29 s, sys: 414 ms, total: 2.7 s\n",
      "Wall time: 2.87 s\n",
      "CPU times: user 85.3 ms, sys: 70 ms, total: 155 ms\n",
      "Wall time: 212 ms\n",
      "CPU times: user 7.46 s, sys: 66.6 ms, total: 7.52 s\n",
      "Wall time: 8.9 s\n"
     ]
    }
   ],
   "source": [
    "%time n = counting_sort(uberwide_test_list)\n",
    "%time n = radix_sort(uberwide_test_list)\n",
    "%time n = insertion_sort(uberwide_test_list)"
   ]
  },
  {
   "cell_type": "code",
   "execution_count": 112,
   "id": "aae85efb",
   "metadata": {},
   "outputs": [],
   "source": [
    "uberwideshort_test_list = [random.randint(0,100000000) for _ in range(100)]"
   ]
  },
  {
   "cell_type": "code",
   "execution_count": 113,
   "id": "4aba6d32",
   "metadata": {},
   "outputs": [
    {
     "name": "stdout",
     "output_type": "stream",
     "text": [
      "CPU times: user 48.6 s, sys: 19.1 s, total: 1min 7s\n",
      "Wall time: 1min 16s\n",
      "CPU times: user 1.75 ms, sys: 5.69 ms, total: 7.45 ms\n",
      "Wall time: 10.7 ms\n",
      "CPU times: user 1.17 ms, sys: 598 µs, total: 1.77 ms\n",
      "Wall time: 2.99 ms\n"
     ]
    }
   ],
   "source": [
    "%time n = counting_sort(uberwideshort_test_list)\n",
    "%time n = radix_sort(uberwideshort_test_list)\n",
    "%time n = insertion_sort(uberwideshort_test_list)"
   ]
  },
  {
   "cell_type": "markdown",
   "id": "61212333",
   "metadata": {},
   "source": [
    "Insertion sort is most efficient on short lists regardless of the size of the elements because its run-time is solely dependent on the number of elements. Comparing counting sort on the uberbig and uberlong lists, whose length and width sum to the same amount, uberbig is less efficient with a wider list, which I think means that range has a bigger impact on runtime than number of elements. That means counting sort would be most efficient for lists with less digits, and it would work well for long lists. Lastly, radix seems to be the most efficient algorithm for lists with more digits.\n",
    "\n",
    "In short, based on these tests, insertion sort is the best algorithm on short lists, counting sort is the best on long lists with small range, and radix sort is the best on long lists with a large range."
   ]
  },
  {
   "cell_type": "code",
   "execution_count": null,
   "id": "f12d77b4",
   "metadata": {},
   "outputs": [],
   "source": []
  }
 ],
 "metadata": {
  "kernelspec": {
   "display_name": "Python 3 (ipykernel)",
   "language": "python",
   "name": "python3"
  },
  "language_info": {
   "codemirror_mode": {
    "name": "ipython",
    "version": 3
   },
   "file_extension": ".py",
   "mimetype": "text/x-python",
   "name": "python",
   "nbconvert_exporter": "python",
   "pygments_lexer": "ipython3",
   "version": "3.8.10"
  }
 },
 "nbformat": 4,
 "nbformat_minor": 5
}
