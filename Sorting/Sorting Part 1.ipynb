{
 "cells": [
  {
   "cell_type": "markdown",
   "id": "23844af1",
   "metadata": {},
   "source": [
    "## Option 3: Insertion Sort Running Time"
   ]
  },
  {
   "cell_type": "markdown",
   "id": "47e6906c",
   "metadata": {},
   "source": [
    "Since Insertion Sort has to compare the ith element to the previous element to check if it goes in the sorted sublist, there is one comparison for each element except the first, so at minimum there would be n-1 comparisons for a best case running time of $\\theta$(n). The best case would be a sorted list because no swaps have to be made.\n",
    "\n",
    "For the worst case running time, the sort has to swap the ith element the maximum number of times. This would mean moving it from its position at the end of the sublist to the first position in the sublist. For the ith iteration, this would require i-1 swaps, and i-1 comparisons. Since this is done n-1 times, this can be expressed as the summation $\\sum_{i=2}^{n} i-1 = \\frac{n(n+1)}{2} - n$ (where subtracting n adjusts for the -1 in the summand term). This equals $\\frac{n^2+n}{2} - \\frac{2n}{2} = \\frac{n^2+n-2n}{2} = \\frac{n^2-n}{2}$ for a worst case running time of $\\theta(n^2)$. The worst case unsorted list would be a reversed one because to sort it would mean swapping each element with all the previous elements to put it in place."
   ]
  },
  {
   "cell_type": "markdown",
   "id": "5463a615",
   "metadata": {},
   "source": [
    "## Option 4: Implementing Insertion Sort"
   ]
  },
  {
   "cell_type": "code",
   "execution_count": 82,
   "id": "adb9a69c",
   "metadata": {},
   "outputs": [],
   "source": [
    "test_list = [2, 2, 4, 3, 1]"
   ]
  },
  {
   "cell_type": "code",
   "execution_count": 83,
   "id": "e8dc2d70",
   "metadata": {},
   "outputs": [],
   "source": [
    "def insertion_sort(unsorted_list):\n",
    "    for i in range(1, len(unsorted_list)):\n",
    "        idx = i\n",
    "        for j in range(i, 0, -1):\n",
    "            if unsorted_list[idx] >= unsorted_list[j-1]:\n",
    "                break\n",
    "            else:\n",
    "                # swap\n",
    "                second_element = unsorted_list[j-1]\n",
    "                unsorted_list[j-1] = unsorted_list[idx]\n",
    "                unsorted_list[idx] = second_element\n",
    "                idx -= 1\n",
    "    return unsorted_list"
   ]
  },
  {
   "cell_type": "code",
   "execution_count": 84,
   "id": "7ed984a6",
   "metadata": {},
   "outputs": [
    {
     "data": {
      "text/plain": [
       "[1, 2, 2, 3, 4]"
      ]
     },
     "execution_count": 84,
     "metadata": {},
     "output_type": "execute_result"
    }
   ],
   "source": [
    "insertion_sort(test_list)"
   ]
  },
  {
   "cell_type": "code",
   "execution_count": 85,
   "id": "1b6b7128",
   "metadata": {},
   "outputs": [
    {
     "data": {
      "text/plain": [
       "[1, 2, 2, 3, 4]"
      ]
     },
     "execution_count": 85,
     "metadata": {},
     "output_type": "execute_result"
    }
   ],
   "source": [
    "test_list"
   ]
  },
  {
   "cell_type": "markdown",
   "id": "b3955d9b",
   "metadata": {},
   "source": [
    "Fully in-place!"
   ]
  },
  {
   "cell_type": "markdown",
   "id": "dc9fb1fc",
   "metadata": {},
   "source": [
    "## Option 6: Counting Sort Running Time"
   ]
  },
  {
   "cell_type": "markdown",
   "id": "4a7209de",
   "metadata": {},
   "source": [
    "Every element has to be put in a box and this incerementation of a count is an operation so the running time is at least n. Additionally, at the end of categorizing the elements, each count in the dictionary must be checked to see if elements must be created in the final list, and so there are r operations for this. The final running time would be n+r."
   ]
  },
  {
   "cell_type": "markdown",
   "id": "bb20daec",
   "metadata": {},
   "source": [
    "## Option 7: Implementing Counting Sort"
   ]
  },
  {
   "cell_type": "code",
   "execution_count": 87,
   "id": "0f415166",
   "metadata": {},
   "outputs": [],
   "source": [
    "def counting_sort(unsorted_list):\n",
    "    # finding max\n",
    "    current_max = 0\n",
    "    for element in unsorted_list:\n",
    "        if element > current_max:\n",
    "            current_max = element\n",
    "    tabulator = dict(zip(range(current_max+1), (current_max+1)*[0]))\n",
    "    for i in unsorted_list:\n",
    "        tabulator[i] += 1\n",
    "    sorted_list = []\n",
    "    for num in tabulator:\n",
    "        sorted_list.extend(tabulator[num]*[num])\n",
    "    return sorted_list"
   ]
  },
  {
   "cell_type": "code",
   "execution_count": 88,
   "id": "2fa560bb",
   "metadata": {},
   "outputs": [
    {
     "data": {
      "text/plain": [
       "[1, 2, 2, 3, 4]"
      ]
     },
     "execution_count": 88,
     "metadata": {},
     "output_type": "execute_result"
    }
   ],
   "source": [
    "counting_sort(test_list)"
   ]
  },
  {
   "cell_type": "code",
   "execution_count": null,
   "id": "dac247fe",
   "metadata": {},
   "outputs": [],
   "source": []
  }
 ],
 "metadata": {
  "kernelspec": {
   "display_name": "Python 3 (ipykernel)",
   "language": "python",
   "name": "python3"
  },
  "language_info": {
   "codemirror_mode": {
    "name": "ipython",
    "version": 3
   },
   "file_extension": ".py",
   "mimetype": "text/x-python",
   "name": "python",
   "nbconvert_exporter": "python",
   "pygments_lexer": "ipython3",
   "version": "3.8.10"
  }
 },
 "nbformat": 4,
 "nbformat_minor": 5
}
