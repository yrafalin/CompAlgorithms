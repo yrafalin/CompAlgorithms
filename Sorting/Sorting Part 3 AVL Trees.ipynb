{
 "cells": [
  {
   "cell_type": "markdown",
   "id": "ba335fc8",
   "metadata": {},
   "source": [
    "I'm really glad I went with the class method for storing the binary tree, which for some reason I overlooked in my original implementation."
   ]
  },
  {
   "cell_type": "code",
   "execution_count": null,
   "id": "df3eb0ff",
   "metadata": {},
   "outputs": [],
   "source": [
    "def right_rotation(root)\n",
    "    root.left.parent = root.parent\n",
    "    #root.parent = root.left\n",
    "    old_left_right = root.left.right\n",
    "    root.set_left(None, no_retrace=True)\n",
    "    root.left.set_right(root, no_retrace=True)\n",
    "    root.set_left(old_left_right, no_retrace=True)"
   ]
  },
  {
   "cell_type": "code",
   "execution_count": 217,
   "id": "536914b4",
   "metadata": {},
   "outputs": [],
   "source": [
    "class Node:\n",
    "    def __init__(self, value, parent):\n",
    "        self.value = value\n",
    "        self.parent = parent\n",
    "        self.left = None\n",
    "        self.right = None\n",
    "        self.balance_factor = 0  # balance_factor = right_height - left_height\n",
    "        self.height = 0\n",
    "        # while the purist implementation of AVL calculates the change in height every time, its easier saving it\n",
    "    \n",
    "    def set_right(self, right, no_retrace = False):\n",
    "        self.right = right\n",
    "        if right is not None:\n",
    "            self.right.parent = self  # redundant if freshly creating the node\n",
    "#             right_height = self.right.height\n",
    "#         else: right_height = -1\n",
    "#         if self.left is not None: left_height = self.left.height\n",
    "#         else: left_height = -1\n",
    "        \n",
    "#         self.height = max(left_height, right_height) + 1\n",
    "#         self.balance_factor = right_height - left_height\n",
    "        if not no_retrace: retrace(self)\n",
    "        \n",
    "    def set_left(self, left, no_retrace = False):\n",
    "        self.left = left\n",
    "        if left is not None:\n",
    "            self.left.parent = self\n",
    "#             left_height = self.left.height\n",
    "#         else: left_height = -1\n",
    "#         if self.right is not None: right_height = self.right.height\n",
    "#         else: right_height = -1\n",
    "        \n",
    "#         self.height = max(left_height, right_height) + 1\n",
    "#         self.balance_factor = right_height - left_height\n",
    "        if not no_retrace: retrace(self)"
   ]
  },
  {
   "cell_type": "code",
   "execution_count": 5,
   "id": "d5d4cb36",
   "metadata": {},
   "outputs": [],
   "source": [
    "def construct_tree(sorted_array, parent=None):\n",
    "    n = len(sorted_array)\n",
    "    subtree = Node(sorted_array[n//2], parent)\n",
    "    if n > 1:\n",
    "        subtree.set_left(construct_tree(sorted_array[:n//2], subtree))\n",
    "        if n > 2:\n",
    "            subtree.set_right(construct_tree(sorted_array[(n//2)+1:], subtree))\n",
    "    return subtree"
   ]
  },
  {
   "cell_type": "code",
   "execution_count": 6,
   "id": "1a851bdb",
   "metadata": {},
   "outputs": [
    {
     "data": {
      "text/plain": [
       "<__main__.Node at 0x104b43ac0>"
      ]
     },
     "execution_count": 6,
     "metadata": {},
     "output_type": "execute_result"
    }
   ],
   "source": [
    "construct_tree([1,2,3,4,5,5,6,7,8,9])"
   ]
  },
  {
   "cell_type": "code",
   "execution_count": 100,
   "id": "cb8598cd",
   "metadata": {},
   "outputs": [],
   "source": [
    "# copied from https://stackoverflow.com/questions/34012886/print-binary-tree-level-by-level-in-python\n",
    "# thanks @yozn\n",
    "def printTree(node, level=0):\n",
    "    if node.left is not None:\n",
    "        printTree(node.left, level + 1)\n",
    "    print(' ' * 4 * level + '-> ' + str(node.value))\n",
    "    if node.right is not None:\n",
    "        printTree(node.right, level + 1)\n",
    "        \n",
    "def testPrintTree(node, level=0):\n",
    "    if node.left is not None:\n",
    "        testPrintTree(node.left, level + 1)\n",
    "    print(' ' * 4 * level + '-> ' + str(node.value)+\", \"+ str(node.balance_factor))\n",
    "    if node.right is not None:\n",
    "        testPrintTree(node.right, level + 1)"
   ]
  },
  {
   "cell_type": "code",
   "execution_count": 49,
   "id": "b719642f",
   "metadata": {
    "scrolled": true
   },
   "outputs": [
    {
     "name": "stdout",
     "output_type": "stream",
     "text": [
      "            -> 1\n",
      "        -> 2\n",
      "    -> 3\n",
      "        -> 4\n",
      "-> 5\n",
      "            -> 6\n",
      "        -> 7\n",
      "    -> 8\n",
      "        -> 9\n"
     ]
    }
   ],
   "source": [
    "printTree(construct_tree([1,2,3,4,5,6,7,8,9]))"
   ]
  },
  {
   "cell_type": "markdown",
   "id": "b9172682",
   "metadata": {},
   "source": [
    "Some accessor functions. So much more elegant than the list implementation!"
   ]
  },
  {
   "cell_type": "code",
   "execution_count": 211,
   "id": "c28c8804",
   "metadata": {},
   "outputs": [],
   "source": [
    "class Node(Node):\n",
    "    def distance_to_bottom_left(self):\n",
    "        if self.left is None:\n",
    "            return 0\n",
    "        return 1 + self.left.distance_to_bottom_left()\n",
    "    \n",
    "    def distance_to_bottom_right(self):\n",
    "        if self.right is None:\n",
    "            return 0\n",
    "        return 1 + self.right.distance_to_bottom_right()\n",
    "    \n",
    "    def get_min(self):\n",
    "        if self.left is None:\n",
    "            return self.value\n",
    "        return self.left.get_min()\n",
    "    \n",
    "    def get_max(self):\n",
    "        if self.right is None:\n",
    "            return self.value\n",
    "        return self.right.get_max()\n",
    "    \n",
    "    def exists(self, x):\n",
    "        if self.value == x:\n",
    "            return True\n",
    "        elif x > self.value:\n",
    "            if self.right is not None:\n",
    "                return self.right.exists(x)\n",
    "            else: return False\n",
    "        elif x < self.value:\n",
    "            if self.left is not None:\n",
    "                return self.left.exists(x)\n",
    "            else: return False\n",
    "        else:\n",
    "            raise ValueError\n",
    "            \n",
    "    def export(self):\n",
    "        # exports in the Newick format https://en.wikipedia.org/wiki/Newick_format\n",
    "        pass"
   ]
  },
  {
   "cell_type": "code",
   "execution_count": 89,
   "id": "eab2d8e5",
   "metadata": {},
   "outputs": [],
   "source": [
    "test_tree = construct_tree(list(range(1,21)))"
   ]
  },
  {
   "cell_type": "code",
   "execution_count": 27,
   "id": "cab18338",
   "metadata": {},
   "outputs": [
    {
     "name": "stdout",
     "output_type": "stream",
     "text": [
      "4\n",
      "3\n",
      "1\n",
      "20\n",
      "True\n",
      "False\n"
     ]
    }
   ],
   "source": [
    "print(test_tree.distance_to_bottom_left())\n",
    "print(test_tree.distance_to_bottom_right())\n",
    "print(test_tree.get_min())\n",
    "print(test_tree.get_max())\n",
    "print(test_tree.exists(7))\n",
    "print(test_tree.exists(21))"
   ]
  },
  {
   "cell_type": "code",
   "execution_count": 90,
   "id": "bfc94107",
   "metadata": {
    "scrolled": true
   },
   "outputs": [
    {
     "name": "stdout",
     "output_type": "stream",
     "text": [
      "                -> 1\n",
      "            -> 2\n",
      "        -> 3\n",
      "                -> 4\n",
      "            -> 5\n",
      "    -> 6\n",
      "                -> 7\n",
      "            -> 8\n",
      "        -> 9\n",
      "            -> 10\n",
      "-> 11\n",
      "                -> 12\n",
      "            -> 13\n",
      "        -> 14\n",
      "            -> 15\n",
      "    -> 16\n",
      "                -> 17\n",
      "            -> 18\n",
      "        -> 19\n",
      "            -> 20\n"
     ]
    }
   ],
   "source": [
    "printTree(test_tree)"
   ]
  },
  {
   "cell_type": "code",
   "execution_count": 91,
   "id": "74776d7d",
   "metadata": {},
   "outputs": [
    {
     "name": "stdout",
     "output_type": "stream",
     "text": [
      "                -> 1, 0\n",
      "            -> 2, 1\n",
      "        -> 3, 2\n",
      "                -> 4, 0\n",
      "            -> 5, 1\n",
      "    -> 6, 3\n",
      "                -> 7, 0\n",
      "            -> 8, 1\n",
      "        -> 9, 2\n",
      "            -> 10, 0\n",
      "-> 11, 4\n",
      "                -> 12, 0\n",
      "            -> 13, 1\n",
      "        -> 14, 2\n",
      "            -> 15, 0\n",
      "    -> 16, 3\n",
      "                -> 17, 0\n",
      "            -> 18, 1\n",
      "        -> 19, 2\n",
      "            -> 20, 0\n"
     ]
    }
   ],
   "source": [
    "testPrintTree(test_tree)"
   ]
  },
  {
   "cell_type": "code",
   "execution_count": 194,
   "id": "784f2060",
   "metadata": {},
   "outputs": [],
   "source": [
    "# https://en.wikipedia.org/wiki/AVL_tree\n",
    "def left_rotation(root):\n",
    "    root.right.parent = root.parent\n",
    "    #root.parent = root.right\n",
    "    old_right = root.right\n",
    "    #root.set_right(None, no_retrace=True)\n",
    "    root.set_right(root.right.left, no_retrace=True)\n",
    "    old_right.set_left(root, no_retrace=True)\n",
    "    \n",
    "#     old_right_left = root.right.left\n",
    "#     root.set_right(None, no_retrace=True)\n",
    "#     root.right.set_left(root, no_retrace=True)\n",
    "#     root.set_right(old_right_left, no_retrace=True)\n",
    "    \n",
    "def right_rotation(root):\n",
    "    root.left.parent = root.parent\n",
    "    #root.parent = root.left\n",
    "    old_left = root.left\n",
    "    #root.set_left(None, no_retrace=True)\n",
    "    root.set_left(root.left.right, no_retrace=True)\n",
    "    old_left.set_right(root, no_retrace=True)\n",
    "    \n",
    "def rightleft_rotation(root):\n",
    "    right_rotation(root.right)\n",
    "    left_rotation(root)\n",
    "    \n",
    "def leftright_rotation(root):\n",
    "    left_rotation(root.left)\n",
    "    right_rotation(root)"
   ]
  },
  {
   "cell_type": "code",
   "execution_count": 216,
   "id": "58423eff",
   "metadata": {},
   "outputs": [],
   "source": [
    "def retrace(node):  # correct the heights and balance factors of ancestor nodes\n",
    "    # arg must be the edited node because its parent doesn't know which child has been edited\n",
    "    #height_counter = node.height\n",
    "    current_node = node\n",
    "    while current_node is not None:\n",
    "        #current_node.height = height_counter\n",
    "        right_height = current_node.right.height if current_node.right is not None else -1\n",
    "        left_height = current_node.left.height if current_node.left is not None else -1\n",
    "        current_node.height = max(right_height, left_height) + 1\n",
    "        current_node.balance_factor = right_height - left_height\n",
    "        #height_counter += 1\n",
    "        current_node = current_node.parent\n",
    "\n",
    "def rebalance(node):  # not suitable for multi-element insertions\n",
    "    current_node = node.parent  # the lowest node that can necessitate rotation is the parent of the edited node\n",
    "    while current_node is not None:\n",
    "        if abs(current_node.balance_factor) == 2:\n",
    "            print(current_node.value, current_node.balance_factor, current_node.parent.value, current_node.left, current_node.right)\n",
    "            # more efficient than checking each node for +2 or -2 bc only 2 rotations max are necessary\n",
    "            if current_node.balance_factor == 2:\n",
    "                if current_node.right.balance_factor == -1:\n",
    "                    # fixing the child of the parent was such a mess\n",
    "                    if current_node.parent.right.right.value == current_node.right.value:\n",
    "                        current_node.parent.set_right(current_node.right.left, no_retrace=True)\n",
    "                    else:\n",
    "                        current_node.parent.set_left(current_node.right.left, no_retrace=True)\n",
    "                    rightleft_rotation(current_node)\n",
    "                    retrace(current_node)\n",
    "                else:\n",
    "                    if current_node.parent.right.right.value == current_node.right.value:\n",
    "                        current_node.parent.set_right(current_node.right, no_retrace=True)\n",
    "                    else:\n",
    "                        current_node.parent.set_left(current_node.right, no_retrace=True)\n",
    "                    left_rotation(current_node)\n",
    "                    retrace(current_node)\n",
    "            else:  # -2\n",
    "                if current_node.left.balance_factor == 1:\n",
    "                    if current_node.parent.left.left.value == current_node.left.value:\n",
    "                        current_node.parent.set_left(current_node.left.right, no_retrace=True)\n",
    "                    else:\n",
    "                        current_node.parent.set_right(current_node.left.right, no_retrace=True)\n",
    "                    leftright_rotation(current_node)\n",
    "                    retrace(current_node)\n",
    "                else:\n",
    "                    if current_node.parent.left.left.value == current_node.left.value:\n",
    "                        current_node.parent.set_left(current_node.left, no_retrace=True)\n",
    "                    else:\n",
    "                        current_node.parent.set_right(current_node.left, no_retrace=True)\n",
    "                    right_rotation(current_node)\n",
    "                    retrace(current_node)\n",
    "                    \n",
    "                current_node = current_node.parent.parent\n",
    "        else:\n",
    "            current_node = current_node.parent\n",
    "        "
   ]
  },
  {
   "cell_type": "code",
   "execution_count": 128,
   "id": "b0951696",
   "metadata": {},
   "outputs": [],
   "source": [
    "def insert(x, tree):\n",
    "    current_val = tree.value\n",
    "    current_node = tree\n",
    "    while x != current_node.value:\n",
    "        if x > current_node.value:\n",
    "            if current_node.right is not None:\n",
    "                current_node = current_node.right\n",
    "            else:\n",
    "                current_node.set_right(Node(x, current_node))\n",
    "                rebalance(current_node)\n",
    "                return\n",
    "        elif x <= current_node.value:\n",
    "            if current_node.left is not None:\n",
    "                current_node = current_node.left\n",
    "            else:\n",
    "                current_node.set_left(Node(x, current_node))\n",
    "                rebalance(current_node)\n",
    "                return"
   ]
  },
  {
   "cell_type": "code",
   "execution_count": 123,
   "id": "9de79f2b",
   "metadata": {},
   "outputs": [],
   "source": [
    "insert(0, test_tree)"
   ]
  },
  {
   "cell_type": "code",
   "execution_count": 124,
   "id": "0efd0e84",
   "metadata": {},
   "outputs": [
    {
     "name": "stdout",
     "output_type": "stream",
     "text": [
      "                    -> 0, 0\n",
      "                -> 1, -1\n",
      "            -> 2, -2\n",
      "        -> 3, -1\n",
      "                -> 4, 0\n",
      "            -> 5, -1\n",
      "    -> 6, -1\n",
      "                -> 7, 0\n",
      "            -> 8, -1\n",
      "        -> 9, -1\n",
      "            -> 10, 0\n",
      "-> 11, -1\n",
      "                -> 12, 0\n",
      "            -> 13, -1\n",
      "        -> 14, -1\n",
      "            -> 15, 0\n",
      "    -> 16, 0\n",
      "                -> 17, 0\n",
      "            -> 18, -1\n",
      "        -> 19, -1\n",
      "            -> 20, 0\n"
     ]
    }
   ],
   "source": [
    "testPrintTree(test_tree)  # test without rebalancing, only retracing"
   ]
  },
  {
   "cell_type": "code",
   "execution_count": 218,
   "id": "fa6e0946",
   "metadata": {},
   "outputs": [],
   "source": [
    "test_tree = construct_tree(list(range(1,21)))"
   ]
  },
  {
   "cell_type": "code",
   "execution_count": 219,
   "id": "9febd78b",
   "metadata": {},
   "outputs": [
    {
     "name": "stdout",
     "output_type": "stream",
     "text": [
      "2 -2 3 <__main__.Node object at 0x106778970> None\n"
     ]
    }
   ],
   "source": [
    "insert(0, test_tree)"
   ]
  },
  {
   "cell_type": "code",
   "execution_count": 220,
   "id": "58839242",
   "metadata": {},
   "outputs": [
    {
     "name": "stdout",
     "output_type": "stream",
     "text": [
      "                -> 0, 0\n",
      "            -> 1, 0\n",
      "                -> 2, 0\n",
      "        -> 3, 0\n",
      "                -> 4, 0\n",
      "            -> 5, -1\n",
      "    -> 6, 0\n",
      "                -> 7, 0\n",
      "            -> 8, -1\n",
      "        -> 9, -1\n",
      "            -> 10, 0\n",
      "-> 11, 0\n",
      "                -> 12, 0\n",
      "            -> 13, -1\n",
      "        -> 14, -1\n",
      "            -> 15, 0\n",
      "    -> 16, 0\n",
      "                -> 17, 0\n",
      "            -> 18, -1\n",
      "        -> 19, -1\n",
      "            -> 20, 0\n"
     ]
    }
   ],
   "source": [
    "testPrintTree(test_tree)"
   ]
  },
  {
   "cell_type": "code",
   "execution_count": 221,
   "id": "7ecd9d74",
   "metadata": {},
   "outputs": [
    {
     "name": "stdout",
     "output_type": "stream",
     "text": [
      "18 -2 19 <__main__.Node object at 0x106618a90> None\n"
     ]
    }
   ],
   "source": [
    "insert(16.5, test_tree)"
   ]
  },
  {
   "cell_type": "code",
   "execution_count": 222,
   "id": "3626ee90",
   "metadata": {},
   "outputs": [
    {
     "name": "stdout",
     "output_type": "stream",
     "text": [
      "                -> 0, 0\n",
      "            -> 1, 0\n",
      "                -> 2, 0\n",
      "        -> 3, 0\n",
      "                -> 4, 0\n",
      "            -> 5, -1\n",
      "    -> 6, 0\n",
      "                -> 7, 0\n",
      "            -> 8, -1\n",
      "        -> 9, -1\n",
      "            -> 10, 0\n",
      "-> 11, 0\n",
      "                -> 12, 0\n",
      "            -> 13, -1\n",
      "        -> 14, -1\n",
      "            -> 15, 0\n",
      "    -> 16, 0\n",
      "                -> 16.5, 0\n",
      "            -> 17, 0\n",
      "                -> 18, 0\n",
      "        -> 19, -1\n",
      "            -> 20, 0\n"
     ]
    }
   ],
   "source": [
    "testPrintTree(test_tree)"
   ]
  },
  {
   "cell_type": "code",
   "execution_count": 223,
   "id": "796f07e5",
   "metadata": {},
   "outputs": [],
   "source": [
    "test_tree = construct_tree(list(range(1,32)))"
   ]
  },
  {
   "cell_type": "code",
   "execution_count": 231,
   "id": "fc88863a",
   "metadata": {},
   "outputs": [
    {
     "name": "stdout",
     "output_type": "stream",
     "text": [
      "12.5 -2 13 <__main__.Node object at 0x106618d30> None\n"
     ]
    }
   ],
   "source": [
    "insert(12.125, test_tree)"
   ]
  },
  {
   "cell_type": "code",
   "execution_count": 232,
   "id": "c176e6ea",
   "metadata": {},
   "outputs": [
    {
     "name": "stdout",
     "output_type": "stream",
     "text": [
      "                -> 1, 0\n",
      "            -> 2, 0\n",
      "                -> 3, 0\n",
      "        -> 4, 0\n",
      "                -> 5, 0\n",
      "            -> 6, 0\n",
      "                -> 7, 0\n",
      "    -> 8, 1\n",
      "                -> 9, 0\n",
      "            -> 10, 0\n",
      "                -> 11, 0\n",
      "        -> 12, 1\n",
      "                    -> 12.125, 0\n",
      "                -> 12.25, 0\n",
      "                    -> 12.5, 0\n",
      "            -> 13, 0\n",
      "                    -> 13.5, 0\n",
      "                -> 14, 0\n",
      "                    -> 15, 0\n",
      "-> 16, -1\n",
      "                -> 17, 0\n",
      "            -> 18, 0\n",
      "                -> 19, 0\n",
      "        -> 20, 0\n",
      "                -> 21, 0\n",
      "            -> 22, 0\n",
      "                -> 23, 0\n",
      "    -> 24, 0\n",
      "                -> 25, 0\n",
      "            -> 26, 0\n",
      "                -> 27, 0\n",
      "        -> 28, 0\n",
      "                -> 29, 0\n",
      "            -> 30, 0\n",
      "                -> 31, 0\n"
     ]
    }
   ],
   "source": [
    "testPrintTree(test_tree)"
   ]
  },
  {
   "cell_type": "code",
   "execution_count": null,
   "id": "8f54d05c",
   "metadata": {},
   "outputs": [],
   "source": []
  }
 ],
 "metadata": {
  "kernelspec": {
   "display_name": "Python 3 (ipykernel)",
   "language": "python",
   "name": "python3"
  },
  "language_info": {
   "codemirror_mode": {
    "name": "ipython",
    "version": 3
   },
   "file_extension": ".py",
   "mimetype": "text/x-python",
   "name": "python",
   "nbconvert_exporter": "python",
   "pygments_lexer": "ipython3",
   "version": "3.10.5"
  }
 },
 "nbformat": 4,
 "nbformat_minor": 5
}
