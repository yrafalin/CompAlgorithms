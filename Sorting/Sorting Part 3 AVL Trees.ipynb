{
 "cells": [
  {
   "cell_type": "markdown",
   "id": "4e3af833",
   "metadata": {},
   "source": [
    "I'm really glad I went with the class method for storing the binary tree, which for some reason I overlooked in my original implementation."
   ]
  },
  {
   "cell_type": "code",
   "execution_count": 2,
   "id": "536914b4",
   "metadata": {},
   "outputs": [],
   "source": [
    "class Node:\n",
    "    def __init__(self, value, parent):\n",
    "        self.value = value\n",
    "        self.parent = parent\n",
    "        self.left = None\n",
    "        self.right = None\n",
    "        self.balance_factor = 0  # balance_factor = right_height - left_height\n",
    "        self.height = 0\n",
    "        # while the purist implementation of AVL calculates the change in height every time, its easier saving it\n",
    "    \n",
    "    def set_right(self, right, no_retrace = False):\n",
    "        self.right = right\n",
    "        if right is not None:\n",
    "            self.right.parent = self  # redundant if freshly creating the node\n",
    "        if not no_retrace: retrace(self)\n",
    "        \n",
    "    def set_left(self, left, no_retrace = False):\n",
    "        self.left = left\n",
    "        if left is not None:\n",
    "            self.left.parent = self\n",
    "        if not no_retrace: retrace(self)"
   ]
  },
  {
   "cell_type": "code",
   "execution_count": 3,
   "id": "d5d4cb36",
   "metadata": {},
   "outputs": [],
   "source": [
    "def construct_tree(sorted_array, parent=None):\n",
    "    n = len(sorted_array)\n",
    "    subtree = Node(sorted_array[n//2], parent)\n",
    "    if n > 1:\n",
    "        subtree.set_left(construct_tree(sorted_array[:n//2], subtree))\n",
    "        if n > 2:\n",
    "            subtree.set_right(construct_tree(sorted_array[(n//2)+1:], subtree))\n",
    "    return subtree"
   ]
  },
  {
   "cell_type": "code",
   "execution_count": 6,
   "id": "033b20f5",
   "metadata": {},
   "outputs": [
    {
     "data": {
      "text/plain": [
       "<__main__.Node at 0x104b43ac0>"
      ]
     },
     "execution_count": 6,
     "metadata": {},
     "output_type": "execute_result"
    }
   ],
   "source": [
    "construct_tree([1,2,3,4,5,5,6,7,8,9])"
   ]
  },
  {
   "cell_type": "code",
   "execution_count": 4,
   "id": "8b79f836",
   "metadata": {},
   "outputs": [],
   "source": [
    "# copied from https://stackoverflow.com/questions/34012886/print-binary-tree-level-by-level-in-python\n",
    "# thanks @yozn\n",
    "def printTree(node, level=0):\n",
    "    if node.left is not None:\n",
    "        printTree(node.left, level + 1)\n",
    "    print(' ' * 4 * level + '-> ' + str(node.value))\n",
    "    if node.right is not None:\n",
    "        printTree(node.right, level + 1)\n",
    "        \n",
    "def testPrintTree(node, level=0):\n",
    "    if node.left is not None:\n",
    "        testPrintTree(node.left, level + 1)\n",
    "    print(' ' * 4 * level + '-> ' + str(node.value)+\", \"+ str(node.balance_factor))\n",
    "    if node.right is not None:\n",
    "        testPrintTree(node.right, level + 1)"
   ]
  },
  {
   "cell_type": "code",
   "execution_count": 49,
   "id": "45e15b2e",
   "metadata": {
    "scrolled": true
   },
   "outputs": [
    {
     "name": "stdout",
     "output_type": "stream",
     "text": [
      "            -> 1\n",
      "        -> 2\n",
      "    -> 3\n",
      "        -> 4\n",
      "-> 5\n",
      "            -> 6\n",
      "        -> 7\n",
      "    -> 8\n",
      "        -> 9\n"
     ]
    }
   ],
   "source": [
    "printTree(construct_tree([1,2,3,4,5,6,7,8,9]))"
   ]
  },
  {
   "cell_type": "markdown",
   "id": "193f2239",
   "metadata": {},
   "source": [
    "Some accessor functions. So much more elegant than the list implementation!"
   ]
  },
  {
   "cell_type": "code",
   "execution_count": 5,
   "id": "48b9e0d9",
   "metadata": {},
   "outputs": [],
   "source": [
    "class Node(Node):\n",
    "    def distance_to_bottom_left(self):\n",
    "        if self.left is None:\n",
    "            return 0\n",
    "        return 1 + self.left.distance_to_bottom_left()\n",
    "    \n",
    "    def distance_to_bottom_right(self):\n",
    "        if self.right is None:\n",
    "            return 0\n",
    "        return 1 + self.right.distance_to_bottom_right()\n",
    "    \n",
    "    def get_min(self):\n",
    "        if self.left is None:\n",
    "            return self.value\n",
    "        return self.left.get_min()\n",
    "    \n",
    "    def get_max(self):\n",
    "        if self.right is None:\n",
    "            return self.value\n",
    "        return self.right.get_max()\n",
    "    \n",
    "    def exists(self, x):\n",
    "        if self.value == x:\n",
    "            return True\n",
    "        elif x > self.value:\n",
    "            if self.right is not None:\n",
    "                return self.right.exists(x)\n",
    "            else: return False\n",
    "        elif x < self.value:\n",
    "            if self.left is not None:\n",
    "                return self.left.exists(x)\n",
    "            else: return False\n",
    "        else:\n",
    "            raise ValueError\n",
    "            \n",
    "    def export(self):\n",
    "        # exports in the Newick format https://en.wikipedia.org/wiki/Newick_format\n",
    "        pass"
   ]
  },
  {
   "cell_type": "code",
   "execution_count": 10,
   "id": "a28a6a2b",
   "metadata": {},
   "outputs": [],
   "source": [
    "test_tree = construct_tree(list(range(1,21)))"
   ]
  },
  {
   "cell_type": "code",
   "execution_count": 11,
   "id": "fab5318d",
   "metadata": {},
   "outputs": [
    {
     "name": "stdout",
     "output_type": "stream",
     "text": [
      "4\n",
      "3\n",
      "1\n",
      "20\n",
      "True\n",
      "False\n"
     ]
    }
   ],
   "source": [
    "print(test_tree.distance_to_bottom_left())\n",
    "print(test_tree.distance_to_bottom_right())\n",
    "print(test_tree.get_min())\n",
    "print(test_tree.get_max())\n",
    "print(test_tree.exists(7))\n",
    "print(test_tree.exists(21))"
   ]
  },
  {
   "cell_type": "code",
   "execution_count": 12,
   "id": "901e0fbf",
   "metadata": {
    "scrolled": true
   },
   "outputs": [
    {
     "name": "stdout",
     "output_type": "stream",
     "text": [
      "                -> 1\n",
      "            -> 2\n",
      "        -> 3\n",
      "                -> 4\n",
      "            -> 5\n",
      "    -> 6\n",
      "                -> 7\n",
      "            -> 8\n",
      "        -> 9\n",
      "            -> 10\n",
      "-> 11\n",
      "                -> 12\n",
      "            -> 13\n",
      "        -> 14\n",
      "            -> 15\n",
      "    -> 16\n",
      "                -> 17\n",
      "            -> 18\n",
      "        -> 19\n",
      "            -> 20\n"
     ]
    }
   ],
   "source": [
    "printTree(test_tree)"
   ]
  },
  {
   "cell_type": "code",
   "execution_count": 13,
   "id": "5751bf4d",
   "metadata": {},
   "outputs": [
    {
     "name": "stdout",
     "output_type": "stream",
     "text": [
      "                -> 1, 0\n",
      "            -> 2, -1\n",
      "        -> 3, 0\n",
      "                -> 4, 0\n",
      "            -> 5, -1\n",
      "    -> 6, 0\n",
      "                -> 7, 0\n",
      "            -> 8, -1\n",
      "        -> 9, -1\n",
      "            -> 10, 0\n",
      "-> 11, 0\n",
      "                -> 12, 0\n",
      "            -> 13, -1\n",
      "        -> 14, -1\n",
      "            -> 15, 0\n",
      "    -> 16, 0\n",
      "                -> 17, 0\n",
      "            -> 18, -1\n",
      "        -> 19, -1\n",
      "            -> 20, 0\n"
     ]
    }
   ],
   "source": [
    "testPrintTree(test_tree)"
   ]
  },
  {
   "cell_type": "code",
   "execution_count": 7,
   "id": "d646dc64",
   "metadata": {},
   "outputs": [],
   "source": [
    "# https://en.wikipedia.org/wiki/AVL_tree\n",
    "def left_rotation(root):\n",
    "    root.right.parent = root.parent\n",
    "    old_right = root.right\n",
    "    root.set_right(root.right.left, no_retrace=True)\n",
    "    old_right.set_left(root, no_retrace=True)\n",
    "    \n",
    "def right_rotation(root):\n",
    "    root.left.parent = root.parent\n",
    "    old_left = root.left\n",
    "    root.set_left(root.left.right, no_retrace=True)\n",
    "    old_left.set_right(root, no_retrace=True)\n",
    "    \n",
    "def rightleft_rotation(root):\n",
    "    right_rotation(root.right)\n",
    "    left_rotation(root)\n",
    "    \n",
    "def leftright_rotation(root):\n",
    "    left_rotation(root.left)\n",
    "    right_rotation(root)"
   ]
  },
  {
   "cell_type": "code",
   "execution_count": 8,
   "id": "80c357b4",
   "metadata": {},
   "outputs": [],
   "source": [
    "def retrace(node):  # correct the heights and balance factors of ancestor nodes\n",
    "    # arg must be the edited node because its parent doesn't know which child has been edited\n",
    "    current_node = node\n",
    "    while current_node is not None:\n",
    "        right_height = current_node.right.height if current_node.right is not None else -1\n",
    "        left_height = current_node.left.height if current_node.left is not None else -1\n",
    "        current_node.height = max(right_height, left_height) + 1\n",
    "        current_node.balance_factor = right_height - left_height\n",
    "        current_node = current_node.parent\n",
    "\n",
    "def rebalance(node):  # not suitable for multi-element insertions\n",
    "    if node.parent is not None:\n",
    "        current_node = node.parent  # the lowest node that can necessitate rotation is the parent of the edited node\n",
    "    else: return node\n",
    "    \n",
    "    while current_node.parent is not None:\n",
    "        if abs(current_node.balance_factor) == 2:\n",
    "            # more efficient than checking each node for +2 or -2 bc only 2 rotations max are necessary\n",
    "            if current_node.balance_factor == 2:\n",
    "                if current_node.right.balance_factor == -1:\n",
    "                    # fixing the child of the parent was such a mess\n",
    "                    if current_node.parent.right.right.value == current_node.right.value:\n",
    "                        current_node.parent.set_right(current_node.right.left, no_retrace=True)\n",
    "                    else:\n",
    "                        current_node.parent.set_left(current_node.right.left, no_retrace=True)\n",
    "                    rightleft_rotation(current_node)\n",
    "                    retrace(current_node)\n",
    "                else:\n",
    "                    if current_node.parent.right.right.value == current_node.right.value:\n",
    "                        current_node.parent.set_right(current_node.right, no_retrace=True)\n",
    "                    else:\n",
    "                        current_node.parent.set_left(current_node.right, no_retrace=True)\n",
    "                    left_rotation(current_node)\n",
    "                    retrace(current_node)\n",
    "            else:  # -2\n",
    "                if current_node.left.balance_factor == 1:\n",
    "                    if current_node.parent.left.left.value == current_node.left.value:\n",
    "                        current_node.parent.set_left(current_node.left.right, no_retrace=True)\n",
    "                    else:\n",
    "                        current_node.parent.set_right(current_node.left.right, no_retrace=True)\n",
    "                    leftright_rotation(current_node)\n",
    "                    retrace(current_node)\n",
    "                else:\n",
    "                    if current_node.parent.left.left.value == current_node.left.value:\n",
    "                        current_node.parent.set_left(current_node.left, no_retrace=True)\n",
    "                    else:\n",
    "                        current_node.parent.set_right(current_node.left, no_retrace=True)\n",
    "                    right_rotation(current_node)\n",
    "                    retrace(current_node)\n",
    "                    \n",
    "                current_node = current_node.parent.parent\n",
    "        else:\n",
    "            current_node = current_node.parent\n",
    "    # current_node is root\n",
    "    # special case for root because parent is None\n",
    "    if abs(current_node.balance_factor) == 2:\n",
    "        if current_node.balance_factor == 2:\n",
    "            if current_node.right.balance_factor == -1:\n",
    "                rightleft_rotation(current_node)\n",
    "                retrace(current_node)\n",
    "            else:\n",
    "                left_rotation(current_node)\n",
    "                retrace(current_node)\n",
    "        else:  # -2\n",
    "            if current_node.left.balance_factor == 1:\n",
    "                leftright_rotation(current_node)\n",
    "                retrace(current_node)\n",
    "            else:\n",
    "                right_rotation(current_node)\n",
    "                retrace(current_node)\n",
    "        return current_node.parent\n",
    "    else:\n",
    "        return current_node\n",
    "        "
   ]
  },
  {
   "cell_type": "code",
   "execution_count": 9,
   "id": "ea821ae1",
   "metadata": {},
   "outputs": [],
   "source": [
    "def insert(x, tree):\n",
    "    current_val = tree.value\n",
    "    current_node = tree\n",
    "    while True:\n",
    "        if x > current_node.value:\n",
    "            if current_node.right is not None:\n",
    "                current_node = current_node.right\n",
    "            else:\n",
    "                current_node.set_right(Node(x, current_node))\n",
    "                return rebalance(current_node)\n",
    "        elif x <= current_node.value:\n",
    "            if current_node.left is not None:\n",
    "                current_node = current_node.left\n",
    "            else:\n",
    "                current_node.set_left(Node(x, current_node))\n",
    "                return rebalance(current_node)"
   ]
  },
  {
   "cell_type": "code",
   "execution_count": 123,
   "id": "c9234404",
   "metadata": {},
   "outputs": [],
   "source": [
    "insert(0, test_tree)"
   ]
  },
  {
   "cell_type": "code",
   "execution_count": 124,
   "id": "4233119a",
   "metadata": {},
   "outputs": [
    {
     "name": "stdout",
     "output_type": "stream",
     "text": [
      "                    -> 0, 0\n",
      "                -> 1, -1\n",
      "            -> 2, -2\n",
      "        -> 3, -1\n",
      "                -> 4, 0\n",
      "            -> 5, -1\n",
      "    -> 6, -1\n",
      "                -> 7, 0\n",
      "            -> 8, -1\n",
      "        -> 9, -1\n",
      "            -> 10, 0\n",
      "-> 11, -1\n",
      "                -> 12, 0\n",
      "            -> 13, -1\n",
      "        -> 14, -1\n",
      "            -> 15, 0\n",
      "    -> 16, 0\n",
      "                -> 17, 0\n",
      "            -> 18, -1\n",
      "        -> 19, -1\n",
      "            -> 20, 0\n"
     ]
    }
   ],
   "source": [
    "testPrintTree(test_tree)  # test without rebalancing, only retracing"
   ]
  },
  {
   "cell_type": "code",
   "execution_count": 14,
   "id": "44876bee",
   "metadata": {},
   "outputs": [],
   "source": [
    "test_tree = construct_tree(list(range(1,21)))"
   ]
  },
  {
   "cell_type": "code",
   "execution_count": 15,
   "id": "ea178362",
   "metadata": {},
   "outputs": [
    {
     "data": {
      "text/plain": [
       "<__main__.Node at 0x103dcb040>"
      ]
     },
     "execution_count": 15,
     "metadata": {},
     "output_type": "execute_result"
    }
   ],
   "source": [
    "insert(0, test_tree)"
   ]
  },
  {
   "cell_type": "code",
   "execution_count": 16,
   "id": "d7413c73",
   "metadata": {},
   "outputs": [
    {
     "name": "stdout",
     "output_type": "stream",
     "text": [
      "                -> 0, 0\n",
      "            -> 1, 0\n",
      "                -> 2, 0\n",
      "        -> 3, 0\n",
      "                -> 4, 0\n",
      "            -> 5, -1\n",
      "    -> 6, 0\n",
      "                -> 7, 0\n",
      "            -> 8, -1\n",
      "        -> 9, -1\n",
      "            -> 10, 0\n",
      "-> 11, 0\n",
      "                -> 12, 0\n",
      "            -> 13, -1\n",
      "        -> 14, -1\n",
      "            -> 15, 0\n",
      "    -> 16, 0\n",
      "                -> 17, 0\n",
      "            -> 18, -1\n",
      "        -> 19, -1\n",
      "            -> 20, 0\n"
     ]
    }
   ],
   "source": [
    "testPrintTree(test_tree)"
   ]
  },
  {
   "cell_type": "code",
   "execution_count": 17,
   "id": "8d4e1b83",
   "metadata": {},
   "outputs": [
    {
     "data": {
      "text/plain": [
       "<__main__.Node at 0x103dcb040>"
      ]
     },
     "execution_count": 17,
     "metadata": {},
     "output_type": "execute_result"
    }
   ],
   "source": [
    "insert(16.5, test_tree)"
   ]
  },
  {
   "cell_type": "code",
   "execution_count": 18,
   "id": "9dffe737",
   "metadata": {},
   "outputs": [
    {
     "name": "stdout",
     "output_type": "stream",
     "text": [
      "                -> 0, 0\n",
      "            -> 1, 0\n",
      "                -> 2, 0\n",
      "        -> 3, 0\n",
      "                -> 4, 0\n",
      "            -> 5, -1\n",
      "    -> 6, 0\n",
      "                -> 7, 0\n",
      "            -> 8, -1\n",
      "        -> 9, -1\n",
      "            -> 10, 0\n",
      "-> 11, 0\n",
      "                -> 12, 0\n",
      "            -> 13, -1\n",
      "        -> 14, -1\n",
      "            -> 15, 0\n",
      "    -> 16, 0\n",
      "                -> 16.5, 0\n",
      "            -> 17, 0\n",
      "                -> 18, 0\n",
      "        -> 19, -1\n",
      "            -> 20, 0\n"
     ]
    }
   ],
   "source": [
    "testPrintTree(test_tree)"
   ]
  },
  {
   "cell_type": "code",
   "execution_count": 223,
   "id": "f67b5c6b",
   "metadata": {},
   "outputs": [],
   "source": [
    "test_tree = construct_tree(list(range(1,32)))"
   ]
  },
  {
   "cell_type": "code",
   "execution_count": 231,
   "id": "d88cba8a",
   "metadata": {},
   "outputs": [
    {
     "name": "stdout",
     "output_type": "stream",
     "text": [
      "12.5 -2 13 <__main__.Node object at 0x106618d30> None\n"
     ]
    }
   ],
   "source": [
    "insert(12.125, test_tree)"
   ]
  },
  {
   "cell_type": "code",
   "execution_count": 232,
   "id": "fa43be53",
   "metadata": {},
   "outputs": [
    {
     "name": "stdout",
     "output_type": "stream",
     "text": [
      "                -> 1, 0\n",
      "            -> 2, 0\n",
      "                -> 3, 0\n",
      "        -> 4, 0\n",
      "                -> 5, 0\n",
      "            -> 6, 0\n",
      "                -> 7, 0\n",
      "    -> 8, 1\n",
      "                -> 9, 0\n",
      "            -> 10, 0\n",
      "                -> 11, 0\n",
      "        -> 12, 1\n",
      "                    -> 12.125, 0\n",
      "                -> 12.25, 0\n",
      "                    -> 12.5, 0\n",
      "            -> 13, 0\n",
      "                    -> 13.5, 0\n",
      "                -> 14, 0\n",
      "                    -> 15, 0\n",
      "-> 16, -1\n",
      "                -> 17, 0\n",
      "            -> 18, 0\n",
      "                -> 19, 0\n",
      "        -> 20, 0\n",
      "                -> 21, 0\n",
      "            -> 22, 0\n",
      "                -> 23, 0\n",
      "    -> 24, 0\n",
      "                -> 25, 0\n",
      "            -> 26, 0\n",
      "                -> 27, 0\n",
      "        -> 28, 0\n",
      "                -> 29, 0\n",
      "            -> 30, 0\n",
      "                -> 31, 0\n"
     ]
    }
   ],
   "source": [
    "testPrintTree(test_tree)"
   ]
  },
  {
   "cell_type": "markdown",
   "id": "f22b3982",
   "metadata": {},
   "source": [
    "Testing rotations with a worst case degenerate tree"
   ]
  },
  {
   "cell_type": "code",
   "execution_count": 19,
   "id": "c3f5073a",
   "metadata": {},
   "outputs": [],
   "source": [
    "new256 = construct_tree([256])\n",
    "for num in range(255, 1, -1):\n",
    "    new256 = insert(num, new256)"
   ]
  },
  {
   "cell_type": "code",
   "execution_count": 20,
   "id": "6c34a799",
   "metadata": {},
   "outputs": [
    {
     "data": {
      "text/plain": [
       "<__main__.Node at 0x103dcb100>"
      ]
     },
     "execution_count": 20,
     "metadata": {},
     "output_type": "execute_result"
    }
   ],
   "source": [
    "construct_tree([256])"
   ]
  },
  {
   "cell_type": "code",
   "execution_count": 21,
   "id": "0ff08617",
   "metadata": {},
   "outputs": [
    {
     "name": "stdout",
     "output_type": "stream",
     "text": [
      "                            -> 2, 0\n",
      "                        -> 3, 0\n",
      "                            -> 4, 0\n",
      "                    -> 5, 0\n",
      "                            -> 6, 0\n",
      "                        -> 7, 0\n",
      "                            -> 8, 0\n",
      "                -> 9, 0\n",
      "                            -> 10, 0\n",
      "                        -> 11, 0\n",
      "                            -> 12, 0\n",
      "                    -> 13, 0\n",
      "                            -> 14, 0\n",
      "                        -> 15, 0\n",
      "                            -> 16, 0\n",
      "            -> 17, 0\n",
      "                            -> 18, 0\n",
      "                        -> 19, 0\n",
      "                            -> 20, 0\n",
      "                    -> 21, 0\n",
      "                            -> 22, 0\n",
      "                        -> 23, 0\n",
      "                            -> 24, 0\n",
      "                -> 25, 0\n",
      "                            -> 26, 0\n",
      "                        -> 27, 0\n",
      "                            -> 28, 0\n",
      "                    -> 29, 0\n",
      "                            -> 30, 0\n",
      "                        -> 31, 0\n",
      "                            -> 32, 0\n",
      "        -> 33, 0\n",
      "                            -> 34, 0\n",
      "                        -> 35, 0\n",
      "                            -> 36, 0\n",
      "                    -> 37, 0\n",
      "                            -> 38, 0\n",
      "                        -> 39, 0\n",
      "                            -> 40, 0\n",
      "                -> 41, 0\n",
      "                            -> 42, 0\n",
      "                        -> 43, 0\n",
      "                            -> 44, 0\n",
      "                    -> 45, 0\n",
      "                            -> 46, 0\n",
      "                        -> 47, 0\n",
      "                            -> 48, 0\n",
      "            -> 49, 0\n",
      "                            -> 50, 0\n",
      "                        -> 51, 0\n",
      "                            -> 52, 0\n",
      "                    -> 53, 0\n",
      "                            -> 54, 0\n",
      "                        -> 55, 0\n",
      "                            -> 56, 0\n",
      "                -> 57, 0\n",
      "                            -> 58, 0\n",
      "                        -> 59, 0\n",
      "                            -> 60, 0\n",
      "                    -> 61, 0\n",
      "                            -> 62, 0\n",
      "                        -> 63, 0\n",
      "                            -> 64, 0\n",
      "    -> 65, 0\n",
      "                            -> 66, 0\n",
      "                        -> 67, 0\n",
      "                            -> 68, 0\n",
      "                    -> 69, 0\n",
      "                            -> 70, 0\n",
      "                        -> 71, 0\n",
      "                            -> 72, 0\n",
      "                -> 73, 0\n",
      "                            -> 74, 0\n",
      "                        -> 75, 0\n",
      "                            -> 76, 0\n",
      "                    -> 77, 0\n",
      "                            -> 78, 0\n",
      "                        -> 79, 0\n",
      "                            -> 80, 0\n",
      "            -> 81, 0\n",
      "                            -> 82, 0\n",
      "                        -> 83, 0\n",
      "                            -> 84, 0\n",
      "                    -> 85, 0\n",
      "                            -> 86, 0\n",
      "                        -> 87, 0\n",
      "                            -> 88, 0\n",
      "                -> 89, 0\n",
      "                            -> 90, 0\n",
      "                        -> 91, 0\n",
      "                            -> 92, 0\n",
      "                    -> 93, 0\n",
      "                            -> 94, 0\n",
      "                        -> 95, 0\n",
      "                            -> 96, 0\n",
      "        -> 97, 0\n",
      "                            -> 98, 0\n",
      "                        -> 99, 0\n",
      "                            -> 100, 0\n",
      "                    -> 101, 0\n",
      "                            -> 102, 0\n",
      "                        -> 103, 0\n",
      "                            -> 104, 0\n",
      "                -> 105, 0\n",
      "                            -> 106, 0\n",
      "                        -> 107, 0\n",
      "                            -> 108, 0\n",
      "                    -> 109, 0\n",
      "                            -> 110, 0\n",
      "                        -> 111, 0\n",
      "                            -> 112, 0\n",
      "            -> 113, 0\n",
      "                            -> 114, 0\n",
      "                        -> 115, 0\n",
      "                            -> 116, 0\n",
      "                    -> 117, 0\n",
      "                            -> 118, 0\n",
      "                        -> 119, 0\n",
      "                            -> 120, 0\n",
      "                -> 121, 0\n",
      "                            -> 122, 0\n",
      "                        -> 123, 0\n",
      "                            -> 124, 0\n",
      "                    -> 125, 0\n",
      "                            -> 126, 0\n",
      "                        -> 127, 0\n",
      "                            -> 128, 0\n",
      "-> 129, 0\n",
      "                            -> 130, 0\n",
      "                        -> 131, 0\n",
      "                            -> 132, 0\n",
      "                    -> 133, 0\n",
      "                            -> 134, 0\n",
      "                        -> 135, 0\n",
      "                            -> 136, 0\n",
      "                -> 137, 0\n",
      "                            -> 138, 0\n",
      "                        -> 139, 0\n",
      "                            -> 140, 0\n",
      "                    -> 141, 0\n",
      "                            -> 142, 0\n",
      "                        -> 143, 0\n",
      "                            -> 144, 0\n",
      "            -> 145, 0\n",
      "                            -> 146, 0\n",
      "                        -> 147, 0\n",
      "                            -> 148, 0\n",
      "                    -> 149, 0\n",
      "                            -> 150, 0\n",
      "                        -> 151, 0\n",
      "                            -> 152, 0\n",
      "                -> 153, 0\n",
      "                            -> 154, 0\n",
      "                        -> 155, 0\n",
      "                            -> 156, 0\n",
      "                    -> 157, 0\n",
      "                            -> 158, 0\n",
      "                        -> 159, 0\n",
      "                            -> 160, 0\n",
      "        -> 161, 0\n",
      "                            -> 162, 0\n",
      "                        -> 163, 0\n",
      "                            -> 164, 0\n",
      "                    -> 165, 0\n",
      "                            -> 166, 0\n",
      "                        -> 167, 0\n",
      "                            -> 168, 0\n",
      "                -> 169, 0\n",
      "                            -> 170, 0\n",
      "                        -> 171, 0\n",
      "                            -> 172, 0\n",
      "                    -> 173, 0\n",
      "                            -> 174, 0\n",
      "                        -> 175, 0\n",
      "                            -> 176, 0\n",
      "            -> 177, 0\n",
      "                            -> 178, 0\n",
      "                        -> 179, 0\n",
      "                            -> 180, 0\n",
      "                    -> 181, 0\n",
      "                            -> 182, 0\n",
      "                        -> 183, 0\n",
      "                            -> 184, 0\n",
      "                -> 185, 0\n",
      "                            -> 186, 0\n",
      "                        -> 187, 0\n",
      "                            -> 188, 0\n",
      "                    -> 189, 0\n",
      "                            -> 190, 0\n",
      "                        -> 191, 0\n",
      "                            -> 192, 0\n",
      "    -> 193, 0\n",
      "                            -> 194, 0\n",
      "                        -> 195, 0\n",
      "                            -> 196, 0\n",
      "                    -> 197, 0\n",
      "                            -> 198, 0\n",
      "                        -> 199, 0\n",
      "                            -> 200, 0\n",
      "                -> 201, 0\n",
      "                            -> 202, 0\n",
      "                        -> 203, 0\n",
      "                            -> 204, 0\n",
      "                    -> 205, 0\n",
      "                            -> 206, 0\n",
      "                        -> 207, 0\n",
      "                            -> 208, 0\n",
      "            -> 209, 0\n",
      "                            -> 210, 0\n",
      "                        -> 211, 0\n",
      "                            -> 212, 0\n",
      "                    -> 213, 0\n",
      "                            -> 214, 0\n",
      "                        -> 215, 0\n",
      "                            -> 216, 0\n",
      "                -> 217, 0\n",
      "                            -> 218, 0\n",
      "                        -> 219, 0\n",
      "                            -> 220, 0\n",
      "                    -> 221, 0\n",
      "                            -> 222, 0\n",
      "                        -> 223, 0\n",
      "                            -> 224, 0\n",
      "        -> 225, 0\n",
      "                            -> 226, 0\n",
      "                        -> 227, 0\n",
      "                            -> 228, 0\n",
      "                    -> 229, 0\n",
      "                            -> 230, 0\n",
      "                        -> 231, 0\n",
      "                            -> 232, 0\n",
      "                -> 233, 0\n",
      "                            -> 234, 0\n",
      "                        -> 235, 0\n",
      "                            -> 236, 0\n",
      "                    -> 237, 0\n",
      "                            -> 238, 0\n",
      "                        -> 239, 0\n",
      "                            -> 240, 0\n",
      "            -> 241, 0\n",
      "                            -> 242, 0\n",
      "                        -> 243, 0\n",
      "                            -> 244, 0\n",
      "                    -> 245, 0\n",
      "                            -> 246, 0\n",
      "                        -> 247, 0\n",
      "                            -> 248, 0\n",
      "                -> 249, 0\n",
      "                            -> 250, 0\n",
      "                        -> 251, 0\n",
      "                            -> 252, 0\n",
      "                    -> 253, 0\n",
      "                            -> 254, 0\n",
      "                        -> 255, 0\n",
      "                            -> 256, 0\n"
     ]
    }
   ],
   "source": [
    "testPrintTree(new256)"
   ]
  },
  {
   "cell_type": "markdown",
   "id": "5b92fbcd",
   "metadata": {},
   "source": [
    "Wow this is euphoric!"
   ]
  },
  {
   "cell_type": "code",
   "execution_count": null,
   "id": "cdc8cb20",
   "metadata": {},
   "outputs": [],
   "source": []
  }
 ],
 "metadata": {
  "kernelspec": {
   "display_name": "Python 3 (ipykernel)",
   "language": "python",
   "name": "python3"
  },
  "language_info": {
   "codemirror_mode": {
    "name": "ipython",
    "version": 3
   },
   "file_extension": ".py",
   "mimetype": "text/x-python",
   "name": "python",
   "nbconvert_exporter": "python",
   "pygments_lexer": "ipython3",
   "version": "3.10.5"
  }
 },
 "nbformat": 4,
 "nbformat_minor": 5
}
