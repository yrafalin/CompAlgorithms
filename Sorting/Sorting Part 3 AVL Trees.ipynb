{
 "cells": [
  {
   "cell_type": "code",
   "execution_count": null,
   "id": "536914b4",
   "metadata": {},
   "outputs": [],
   "source": [
    "class Node:\n",
    "    def __init__(parent):\n",
    "        self.parent = parent\n",
    "        self.left = None\n",
    "        self.right = None\n",
    "        self.balance_factor = 0\n",
    "        self.height = 0\n",
    "    \n",
    "    def set_right(right):\n",
    "        if self.right is not None:\n",
    "            old_height = self.right.height\n",
    "        else:\n",
    "            old_height = -1\n",
    "        self.right = right\n",
    "        self.balance_factor += self.right.height - old_height\n",
    "        \n",
    "    def set_left(left):\n",
    "        self.left = left"
   ]
  },
  {
   "cell_type": "code",
   "execution_count": null,
   "id": "d5d4cb36",
   "metadata": {},
   "outputs": [],
   "source": [
    "def calc_height"
   ]
  }
 ],
 "metadata": {
  "kernelspec": {
   "display_name": "Python 3 (ipykernel)",
   "language": "python",
   "name": "python3"
  },
  "language_info": {
   "codemirror_mode": {
    "name": "ipython",
    "version": 3
   },
   "file_extension": ".py",
   "mimetype": "text/x-python",
   "name": "python",
   "nbconvert_exporter": "python",
   "pygments_lexer": "ipython3",
   "version": "3.8.10"
  }
 },
 "nbformat": 4,
 "nbformat_minor": 5
}
