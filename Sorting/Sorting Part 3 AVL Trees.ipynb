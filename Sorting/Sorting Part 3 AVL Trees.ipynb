{
 "cells": [
  {
   "cell_type": "markdown",
   "id": "862ce7ab",
   "metadata": {},
   "source": [
    "I'm really glad I went with the class method for storing the binary tree, which for some reason I overlooked in my original implementation."
   ]
  },
  {
   "cell_type": "code",
   "execution_count": null,
   "id": "536914b4",
   "metadata": {},
   "outputs": [],
   "source": [
    "class Node:\n",
    "    def __init__(value, parent):\n",
    "        self.value = value\n",
    "        self.parent = parent\n",
    "        self.left = None\n",
    "        self.right = None\n",
    "        self.balance_factor = 0  # balance_factor = right_height - left_height\n",
    "        self.height = 0\n",
    "        # while the purist implementation of AVL calculates the change in height every time, its easier saving it\n",
    "    \n",
    "    def set_right(right):\n",
    "        if self.right is not None:\n",
    "            old_height = self.right.height\n",
    "        else:  # no node existing, height of -1\n",
    "            old_height = -1\n",
    "        self.right = right\n",
    "        self.balance_factor += self.right.height - old_height  # change in heights, added\n",
    "        \n",
    "    def set_left(left):\n",
    "        if self.left is not None:\n",
    "            old_height = self.left.height\n",
    "        else:  # no node existing, height of -1\n",
    "            old_height = -1\n",
    "        self.left = left\n",
    "        self.balance_factor -= self.left.height - old_height  # change in heights, subtracted"
   ]
  },
  {
   "cell_type": "code",
   "execution_count": null,
   "id": "d5d4cb36",
   "metadata": {},
   "outputs": [],
   "source": [
    "def construct_tree(sorted_array, parent=None):\n",
    "    n = len(sorted_array)\n",
    "    subtree = Node(sorted_array[n//2], parent)\n",
    "    if n > 1:\n",
    "        subtree.set_left(construct_tree(sorted_array[:n//2], subtree))\n",
    "        if n > 2:\n",
    "            subtree.set_right(construct_tree(sorted_array[(n//2)+1:], subtree))\n",
    "    return subtree"
   ]
  },
  {
   "cell_type": "markdown",
   "id": "f7bc3863",
   "metadata": {},
   "source": [
    "Some accessor functions. So much more elegant than the list implementation!"
   ]
  },
  {
   "cell_type": "code",
   "execution_count": null,
   "id": "df0752b3",
   "metadata": {},
   "outputs": [],
   "source": [
    "class Node(Node):\n",
    "    def distance_to_bottom_left():\n",
    "        if self.left is None:\n",
    "            return 0\n",
    "        return 1 + self.left.distance_to_bottom_left()\n",
    "    \n",
    "    def distance_to_bottom_right():\n",
    "        if self.right is None:\n",
    "            return 0\n",
    "        return 1 + self.right.distance_to_bottom_right()\n",
    "    \n",
    "    def get_min():\n",
    "        if self.left is None:\n",
    "            return self.value\n",
    "        return self.left.get_min()\n",
    "    \n",
    "    def exists(x):\n",
    "        if self.value == x:\n",
    "            return True\n",
    "        elif x > self.value:\n",
    "            if self.right is not None:\n",
    "                return self.right.exists(x)\n",
    "            else: return False\n",
    "        elif x < self.value:\n",
    "            if self.left is not None:\n",
    "                return self.left.exists(x)\n",
    "            else: return False\n",
    "        else:\n",
    "            raise ValueError"
   ]
  }
 ],
 "metadata": {
  "kernelspec": {
   "display_name": "Python 3 (ipykernel)",
   "language": "python",
   "name": "python3"
  },
  "language_info": {
   "codemirror_mode": {
    "name": "ipython",
    "version": 3
   },
   "file_extension": ".py",
   "mimetype": "text/x-python",
   "name": "python",
   "nbconvert_exporter": "python",
   "pygments_lexer": "ipython3",
   "version": "3.10.5"
  }
 },
 "nbformat": 4,
 "nbformat_minor": 5
}
