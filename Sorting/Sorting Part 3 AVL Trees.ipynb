{
 "cells": [
  {
   "cell_type": "markdown",
   "id": "aeaff722",
   "metadata": {},
   "source": [
    "I'm really glad I went with the class method for storing the binary tree, which for some reason I overlooked in my original implementation."
   ]
  },
  {
   "cell_type": "code",
   "execution_count": 146,
   "id": "536914b4",
   "metadata": {},
   "outputs": [],
   "source": [
    "class Node:\n",
    "    def __init__(self, value, parent):\n",
    "        self.value = value\n",
    "        self.parent = parent\n",
    "        self.left = None\n",
    "        self.right = None\n",
    "        self.balance_factor = 0  # balance_factor = right_height - left_height\n",
    "        self.height = 0\n",
    "        # while the purist implementation of AVL calculates the change in height every time, its easier saving it\n",
    "    \n",
    "    def set_right(self, right, no_retrace = False):\n",
    "        if self.right is not None:\n",
    "            old_height = self.right.height\n",
    "        else:  # no node existing, height of -1\n",
    "            old_height = -1\n",
    "        self.right = right\n",
    "        if right is not None:\n",
    "            if right.height + 1 > self.height: self.height = right.height + 1\n",
    "            self.right.parent = self  # redundant if freshly creating the node\n",
    "            right_height = self.right.height\n",
    "        else: right_height = -1\n",
    "        self.balance_factor += right_height - old_height  # change in heights, added\n",
    "        if not no_retrace: retrace(self)\n",
    "        \n",
    "    def set_left(self, left, no_retrace = False):\n",
    "        if self.left is not None:\n",
    "            old_height = self.left.height\n",
    "        else:  # no node existing, height of -1\n",
    "            old_height = -1\n",
    "        self.left = left\n",
    "        if left is not None:\n",
    "            if left.height + 1 > self.height: self.height = left.height + 1\n",
    "            self.left.parent = self\n",
    "            left_height = self.left.height\n",
    "        else: left_height = -1\n",
    "        self.balance_factor -= left_height - old_height  # change in heights, subtracted\n",
    "        if not no_retrace: retrace(self)"
   ]
  },
  {
   "cell_type": "code",
   "execution_count": 5,
   "id": "d5d4cb36",
   "metadata": {},
   "outputs": [],
   "source": [
    "def construct_tree(sorted_array, parent=None):\n",
    "    n = len(sorted_array)\n",
    "    subtree = Node(sorted_array[n//2], parent)\n",
    "    if n > 1:\n",
    "        subtree.set_left(construct_tree(sorted_array[:n//2], subtree))\n",
    "        if n > 2:\n",
    "            subtree.set_right(construct_tree(sorted_array[(n//2)+1:], subtree))\n",
    "    return subtree"
   ]
  },
  {
   "cell_type": "code",
   "execution_count": 6,
   "id": "01a28033",
   "metadata": {},
   "outputs": [
    {
     "data": {
      "text/plain": [
       "<__main__.Node at 0x104b43ac0>"
      ]
     },
     "execution_count": 6,
     "metadata": {},
     "output_type": "execute_result"
    }
   ],
   "source": [
    "construct_tree([1,2,3,4,5,5,6,7,8,9])"
   ]
  },
  {
   "cell_type": "code",
   "execution_count": 100,
   "id": "86831889",
   "metadata": {},
   "outputs": [],
   "source": [
    "# copied from https://stackoverflow.com/questions/34012886/print-binary-tree-level-by-level-in-python\n",
    "# thanks @yozn\n",
    "def printTree(node, level=0):\n",
    "    if node.left is not None:\n",
    "        printTree(node.left, level + 1)\n",
    "    print(' ' * 4 * level + '-> ' + str(node.value))\n",
    "    if node.right is not None:\n",
    "        printTree(node.right, level + 1)\n",
    "        \n",
    "def testPrintTree(node, level=0):\n",
    "    if node.left is not None:\n",
    "        testPrintTree(node.left, level + 1)\n",
    "    print(' ' * 4 * level + '-> ' + str(node.value)+\", \"+ str(node.balance_factor))\n",
    "    if node.right is not None:\n",
    "        testPrintTree(node.right, level + 1)"
   ]
  },
  {
   "cell_type": "code",
   "execution_count": 49,
   "id": "a6fc4fbb",
   "metadata": {
    "scrolled": true
   },
   "outputs": [
    {
     "name": "stdout",
     "output_type": "stream",
     "text": [
      "            -> 1\n",
      "        -> 2\n",
      "    -> 3\n",
      "        -> 4\n",
      "-> 5\n",
      "            -> 6\n",
      "        -> 7\n",
      "    -> 8\n",
      "        -> 9\n"
     ]
    }
   ],
   "source": [
    "printTree(construct_tree([1,2,3,4,5,6,7,8,9]))"
   ]
  },
  {
   "cell_type": "markdown",
   "id": "113bfc5d",
   "metadata": {},
   "source": [
    "Some accessor functions. So much more elegant than the list implementation!"
   ]
  },
  {
   "cell_type": "code",
   "execution_count": 147,
   "id": "66fe9726",
   "metadata": {},
   "outputs": [],
   "source": [
    "class Node(Node):\n",
    "    def distance_to_bottom_left(self):\n",
    "        if self.left is None:\n",
    "            return 0\n",
    "        return 1 + self.left.distance_to_bottom_left()\n",
    "    \n",
    "    def distance_to_bottom_right(self):\n",
    "        if self.right is None:\n",
    "            return 0\n",
    "        return 1 + self.right.distance_to_bottom_right()\n",
    "    \n",
    "    def get_min(self):\n",
    "        if self.left is None:\n",
    "            return self.value\n",
    "        return self.left.get_min()\n",
    "    \n",
    "    def get_max(self):\n",
    "        if self.right is None:\n",
    "            return self.value\n",
    "        return self.right.get_max()\n",
    "    \n",
    "    def exists(self, x):\n",
    "        if self.value == x:\n",
    "            return True\n",
    "        elif x > self.value:\n",
    "            if self.right is not None:\n",
    "                return self.right.exists(x)\n",
    "            else: return False\n",
    "        elif x < self.value:\n",
    "            if self.left is not None:\n",
    "                return self.left.exists(x)\n",
    "            else: return False\n",
    "        else:\n",
    "            raise ValueError\n",
    "            \n",
    "    def export(self):\n",
    "        # exports in the Newick format https://en.wikipedia.org/wiki/Newick_format\n",
    "        pass"
   ]
  },
  {
   "cell_type": "code",
   "execution_count": 89,
   "id": "cce43809",
   "metadata": {},
   "outputs": [],
   "source": [
    "test_tree = construct_tree(list(range(1,21)))"
   ]
  },
  {
   "cell_type": "code",
   "execution_count": 27,
   "id": "0facb622",
   "metadata": {},
   "outputs": [
    {
     "name": "stdout",
     "output_type": "stream",
     "text": [
      "4\n",
      "3\n",
      "1\n",
      "20\n",
      "True\n",
      "False\n"
     ]
    }
   ],
   "source": [
    "print(test_tree.distance_to_bottom_left())\n",
    "print(test_tree.distance_to_bottom_right())\n",
    "print(test_tree.get_min())\n",
    "print(test_tree.get_max())\n",
    "print(test_tree.exists(7))\n",
    "print(test_tree.exists(21))"
   ]
  },
  {
   "cell_type": "code",
   "execution_count": 90,
   "id": "3f82d7fb",
   "metadata": {
    "scrolled": true
   },
   "outputs": [
    {
     "name": "stdout",
     "output_type": "stream",
     "text": [
      "                -> 1\n",
      "            -> 2\n",
      "        -> 3\n",
      "                -> 4\n",
      "            -> 5\n",
      "    -> 6\n",
      "                -> 7\n",
      "            -> 8\n",
      "        -> 9\n",
      "            -> 10\n",
      "-> 11\n",
      "                -> 12\n",
      "            -> 13\n",
      "        -> 14\n",
      "            -> 15\n",
      "    -> 16\n",
      "                -> 17\n",
      "            -> 18\n",
      "        -> 19\n",
      "            -> 20\n"
     ]
    }
   ],
   "source": [
    "printTree(test_tree)"
   ]
  },
  {
   "cell_type": "code",
   "execution_count": 91,
   "id": "30dae5bc",
   "metadata": {},
   "outputs": [
    {
     "name": "stdout",
     "output_type": "stream",
     "text": [
      "                -> 1, 0\n",
      "            -> 2, 1\n",
      "        -> 3, 2\n",
      "                -> 4, 0\n",
      "            -> 5, 1\n",
      "    -> 6, 3\n",
      "                -> 7, 0\n",
      "            -> 8, 1\n",
      "        -> 9, 2\n",
      "            -> 10, 0\n",
      "-> 11, 4\n",
      "                -> 12, 0\n",
      "            -> 13, 1\n",
      "        -> 14, 2\n",
      "            -> 15, 0\n",
      "    -> 16, 3\n",
      "                -> 17, 0\n",
      "            -> 18, 1\n",
      "        -> 19, 2\n",
      "            -> 20, 0\n"
     ]
    }
   ],
   "source": [
    "testPrintTree(test_tree)"
   ]
  },
  {
   "cell_type": "code",
   "execution_count": 178,
   "id": "8977ca62",
   "metadata": {},
   "outputs": [],
   "source": [
    "# https://en.wikipedia.org/wiki/AVL_tree\n",
    "def left_rotation(root):\n",
    "    root.right.parent = root.parent\n",
    "    #root.parent = root.right\n",
    "    old_right_left = root.right.left\n",
    "    root.right.set_left(root, no_retrace=True)\n",
    "    root.set_right(old_right_left, no_retrace=True)\n",
    "    \n",
    "def right_rotation(root):\n",
    "    root.left.parent = root.parent\n",
    "    #root.parent = root.left\n",
    "    old_left_right = root.left.right\n",
    "    root.left.set_right(root, no_retrace=True)\n",
    "    root.set_left(old_left_right, no_retrace=True)\n",
    "    \n",
    "def rightleft_rotation(root):\n",
    "    right_rotation(root.right)\n",
    "    left_rotation(root)\n",
    "    \n",
    "def leftright_rotation(root):\n",
    "    left_rotation(root.left)\n",
    "    right_rotation(root)"
   ]
  },
  {
   "cell_type": "code",
   "execution_count": 185,
   "id": "2b8a5e61",
   "metadata": {},
   "outputs": [],
   "source": [
    "def retrace(node):  # correct the heights and balance factors of ancestor nodes\n",
    "    # arg must be the edited node because its parent doesn't know which child has been edited\n",
    "    height_counter = node.height + 1\n",
    "    current_node = node.parent\n",
    "    while current_node is not None:\n",
    "        if height_counter > current_node.height:\n",
    "            current_node.height = height_counter\n",
    "            right_height = current_node.right.height if current_node.right is not None else -1\n",
    "            left_height = current_node.left.height if current_node.left is not None else -1\n",
    "            current_node.balance_factor = right_height - left_height\n",
    "        height_counter += 1\n",
    "        current_node = current_node.parent\n",
    "\n",
    "def rebalance(node):  # not suitable for multi-element insertions\n",
    "    current_node = node.parent  # the lowest node that can necessitate rotation is the parent of the edited node\n",
    "    while current_node is not None:\n",
    "        if abs(current_node.balance_factor) == 2:\n",
    "            print(current_node.value, current_node.balance_factor, current_node.parent.value, current_node.left, current_node.right)\n",
    "            # more efficient than checking each node for +2 or -2 bc only 2 rotations max are necessary\n",
    "            if current_node.balance_factor == 2:\n",
    "                if current_node.right.balance_factor == -1:\n",
    "                    # fixing the child of the parent was such a mess\n",
    "                    if current_node.parent.right.right.value == current_node.right.value:\n",
    "                        current_node.parent.set_right(current_node.right.left, no_retrace=True)\n",
    "                    else:\n",
    "                        current_node.parent.set_left(current_node.right.left, no_retrace=True)\n",
    "                    rightleft_rotation(current_node)\n",
    "                else:\n",
    "                    if current_node.parent.right.right.value == current_node.right.value:\n",
    "                        current_node.parent.set_right(current_node.right, no_retrace=True)\n",
    "                    else:\n",
    "                        current_node.parent.set_left(current_node.right, no_retrace=True)\n",
    "                    left_rotation(current_node)\n",
    "            else:  # -2\n",
    "                if current_node.left.balance_factor == 1:\n",
    "                    if current_node.parent.left.left.value == current_node.left.value:\n",
    "                        current_node.parent.set_left(current_node.left.right, no_retrace=True)\n",
    "                    else:\n",
    "                        current_node.parent.set_right(current_node.left.right, no_retrace=True)\n",
    "                    leftright_rotation(current_node)\n",
    "                else:\n",
    "                    if current_node.parent.left.left.value == current_node.left.value:\n",
    "                        current_node.parent.set_left(current_node.left, no_retrace=True)\n",
    "                    else:\n",
    "                        current_node.parent.set_right(current_node.left, no_retrace=True)\n",
    "                    right_rotation(current_node)\n",
    "                    \n",
    "                current_node = current_node.parent.parent\n",
    "        else:\n",
    "            current_node = current_node.parent\n",
    "        time.sleep(0.1)\n",
    "        "
   ]
  },
  {
   "cell_type": "code",
   "execution_count": 128,
   "id": "4145a0b3",
   "metadata": {},
   "outputs": [],
   "source": [
    "def insert(x, tree):\n",
    "    current_val = tree.value\n",
    "    current_node = tree\n",
    "    while x != current_node.value:\n",
    "        if x > current_node.value:\n",
    "            if current_node.right is not None:\n",
    "                current_node = current_node.right\n",
    "            else:\n",
    "                current_node.set_right(Node(x, current_node))\n",
    "                rebalance(current_node)\n",
    "                return\n",
    "        elif x <= current_node.value:\n",
    "            if current_node.left is not None:\n",
    "                current_node = current_node.left\n",
    "            else:\n",
    "                current_node.set_left(Node(x, current_node))\n",
    "                rebalance(current_node)\n",
    "                return"
   ]
  },
  {
   "cell_type": "code",
   "execution_count": 123,
   "id": "7fd59b42",
   "metadata": {},
   "outputs": [],
   "source": [
    "insert(0, test_tree)"
   ]
  },
  {
   "cell_type": "code",
   "execution_count": 124,
   "id": "22a6e432",
   "metadata": {},
   "outputs": [
    {
     "name": "stdout",
     "output_type": "stream",
     "text": [
      "                    -> 0, 0\n",
      "                -> 1, -1\n",
      "            -> 2, -2\n",
      "        -> 3, -1\n",
      "                -> 4, 0\n",
      "            -> 5, -1\n",
      "    -> 6, -1\n",
      "                -> 7, 0\n",
      "            -> 8, -1\n",
      "        -> 9, -1\n",
      "            -> 10, 0\n",
      "-> 11, -1\n",
      "                -> 12, 0\n",
      "            -> 13, -1\n",
      "        -> 14, -1\n",
      "            -> 15, 0\n",
      "    -> 16, 0\n",
      "                -> 17, 0\n",
      "            -> 18, -1\n",
      "        -> 19, -1\n",
      "            -> 20, 0\n"
     ]
    }
   ],
   "source": [
    "testPrintTree(test_tree)  # test without rebalancing, only retracing"
   ]
  },
  {
   "cell_type": "code",
   "execution_count": 186,
   "id": "3d3da14e",
   "metadata": {},
   "outputs": [],
   "source": [
    "test_tree = construct_tree(list(range(1,21)))"
   ]
  },
  {
   "cell_type": "code",
   "execution_count": 187,
   "id": "fa2f7bb9",
   "metadata": {},
   "outputs": [
    {
     "name": "stdout",
     "output_type": "stream",
     "text": [
      "2 -2 3 <__main__.Node object at 0x106be4f70> None\n"
     ]
    }
   ],
   "source": [
    "insert(0, test_tree)"
   ]
  },
  {
   "cell_type": "code",
   "execution_count": 188,
   "id": "799fd89e",
   "metadata": {},
   "outputs": [
    {
     "name": "stdout",
     "output_type": "stream",
     "text": [
      "                -> 0, 0\n",
      "            -> 1, 2\n",
      "                -> 2, 2\n",
      "        -> 3, 0\n",
      "                -> 4, 0\n",
      "            -> 5, -1\n",
      "    -> 6, -1\n",
      "                -> 7, 0\n",
      "            -> 8, -1\n",
      "        -> 9, -1\n",
      "            -> 10, 0\n",
      "-> 11, -1\n",
      "                -> 12, 0\n",
      "            -> 13, -1\n",
      "        -> 14, -1\n",
      "            -> 15, 0\n",
      "    -> 16, 0\n",
      "                -> 17, 0\n",
      "            -> 18, -1\n",
      "        -> 19, -1\n",
      "            -> 20, 0\n"
     ]
    }
   ],
   "source": [
    "testPrintTree(test_tree)"
   ]
  },
  {
   "cell_type": "code",
   "execution_count": null,
   "id": "41279d2b",
   "metadata": {},
   "outputs": [],
   "source": []
  }
 ],
 "metadata": {
  "kernelspec": {
   "display_name": "Python 3 (ipykernel)",
   "language": "python",
   "name": "python3"
  },
  "language_info": {
   "codemirror_mode": {
    "name": "ipython",
    "version": 3
   },
   "file_extension": ".py",
   "mimetype": "text/x-python",
   "name": "python",
   "nbconvert_exporter": "python",
   "pygments_lexer": "ipython3",
   "version": "3.10.5"
  }
 },
 "nbformat": 4,
 "nbformat_minor": 5
}
