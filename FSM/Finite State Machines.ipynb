{
 "cells": [
  {
   "cell_type": "code",
   "execution_count": 4,
   "id": "a045baf7",
   "metadata": {},
   "outputs": [],
   "source": [
    "def fast_exp(base, exp):\n",
    "    x=base\n",
    "    y=1\n",
    "    z=exp\n",
    "    while z != 0:\n",
    "        print(x,y,z)\n",
    "        if z % 2 == 1: y = x*y\n",
    "        z = z//2\n",
    "        x = x**2\n",
    "    print(x,y,z)\n",
    "    return y"
   ]
  },
  {
   "cell_type": "code",
   "execution_count": 5,
   "id": "5c80e7e4",
   "metadata": {},
   "outputs": [
    {
     "name": "stdout",
     "output_type": "stream",
     "text": [
      "2 1 7\n",
      "4 2 3\n",
      "16 8 1\n",
      "256 128 0\n"
     ]
    },
    {
     "data": {
      "text/plain": [
       "128"
      ]
     },
     "execution_count": 5,
     "metadata": {},
     "output_type": "execute_result"
    }
   ],
   "source": [
    "fast_exp(2,7)"
   ]
  },
  {
   "cell_type": "code",
   "execution_count": 6,
   "id": "9e69a416",
   "metadata": {},
   "outputs": [
    {
     "name": "stdout",
     "output_type": "stream",
     "text": [
      "3 1 7\n",
      "9 3 3\n",
      "81 27 1\n",
      "6561 2187 0\n"
     ]
    },
    {
     "data": {
      "text/plain": [
       "2187"
      ]
     },
     "execution_count": 6,
     "metadata": {},
     "output_type": "execute_result"
    }
   ],
   "source": [
    "fast_exp(3,7)"
   ]
  },
  {
   "cell_type": "code",
   "execution_count": null,
   "id": "5c6a2c3f",
   "metadata": {},
   "outputs": [],
   "source": [
    "fast_exp(10,)"
   ]
  }
 ],
 "metadata": {
  "kernelspec": {
   "display_name": "Python 3 (ipykernel)",
   "language": "python",
   "name": "python3"
  },
  "language_info": {
   "codemirror_mode": {
    "name": "ipython",
    "version": 3
   },
   "file_extension": ".py",
   "mimetype": "text/x-python",
   "name": "python",
   "nbconvert_exporter": "python",
   "pygments_lexer": "ipython3",
   "version": "3.8.10"
  }
 },
 "nbformat": 4,
 "nbformat_minor": 5
}
