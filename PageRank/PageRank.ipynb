{
 "cells": [
  {
   "cell_type": "code",
   "execution_count": 1,
   "id": "452c97d4",
   "metadata": {},
   "outputs": [],
   "source": [
    "import numpy as np"
   ]
  },
  {
   "cell_type": "markdown",
   "id": "d8f04c97",
   "metadata": {},
   "source": [
    "I decided to do the matrix implementation because I thought it was different from the implementation in the other notebook.\n",
    "\n",
    "The following was my initial attempt. I knew that I had to make a link table where the value of each link was divided by the number of outbound links. This would be multiplied by the pagerank values. When I made the array, I put the linking page as the row, and the linked-to page as the column. However, found that this returned the same value for the pagerank, so I knew something was wrong. I tried transposing the link table, and this seemed to provide correct values.\n",
    "\n",
    "My intuition about this being the right way was confirmed when I went to check the original [pagerank article](http://ilpubs.stanford.edu:8090/422/1/1999-66.pdf), which also served as my guide for the dampening part."
   ]
  },
  {
   "cell_type": "code",
   "execution_count": 13,
   "id": "ef26376c",
   "metadata": {},
   "outputs": [
    {
     "data": {
      "text/plain": [
       "array([0.3, 0.3, 0.3])"
      ]
     },
     "execution_count": 13,
     "metadata": {},
     "output_type": "execute_result"
    }
   ],
   "source": [
    "links = np.array([[0, 0.5, 0.5, 0],\n",
    "        [0.5, 0, 0, 0.5],\n",
    "        [0, 1, 0, 0],\n",
    "        [0.33, 0.33, 0.33, 0]])\n",
    "ranks = np.array([[0.25],\n",
    "                  [0.25],\n",
    "                  [0.25],\n",
    "                  [0.25]])\n",
    "np.array([0.3,0.3,0.3])"
   ]
  },
  {
   "cell_type": "code",
   "execution_count": 14,
   "id": "688bd720",
   "metadata": {},
   "outputs": [
    {
     "data": {
      "text/plain": [
       "array([[0.25  ],\n",
       "       [0.25  ],\n",
       "       [0.25  ],\n",
       "       [0.2475]])"
      ]
     },
     "execution_count": 14,
     "metadata": {},
     "output_type": "execute_result"
    }
   ],
   "source": [
    "np.matmul(links,ranks)"
   ]
  },
  {
   "cell_type": "code",
   "execution_count": 4,
   "id": "8dfcfa89",
   "metadata": {},
   "outputs": [
    {
     "data": {
      "text/plain": [
       "array([[0.  , 0.15, 0.15],\n",
       "       [0.15, 0.  , 0.15],\n",
       "       [0.  , 0.3 , 0.  ]])"
      ]
     },
     "execution_count": 4,
     "metadata": {},
     "output_type": "execute_result"
    }
   ],
   "source": [
    "links, np.array([0.3,0.3,0.3])"
   ]
  },
  {
   "cell_type": "code",
   "execution_count": 15,
   "id": "a170c28a",
   "metadata": {},
   "outputs": [
    {
     "data": {
      "text/plain": [
       "array([[0.  , 0.5 , 0.  , 0.33],\n",
       "       [0.5 , 0.  , 1.  , 0.33],\n",
       "       [0.5 , 0.  , 0.  , 0.33],\n",
       "       [0.  , 0.5 , 0.  , 0.  ]])"
      ]
     },
     "execution_count": 15,
     "metadata": {},
     "output_type": "execute_result"
    }
   ],
   "source": [
    "np.transpose(links)"
   ]
  },
  {
   "cell_type": "code",
   "execution_count": 18,
   "id": "c81f8d0c",
   "metadata": {},
   "outputs": [],
   "source": [
    "linksT = np.array([[0.  , 0.5 , 0.  , 0.33],\n",
    "       [0.5 , 0.  , 1.  , 0.33],\n",
    "       [0.5 , 0.  , 0.  , 0.33],\n",
    "       [0.  , 0.5 , 0.  , 0.  ]])"
   ]
  },
  {
   "cell_type": "code",
   "execution_count": 19,
   "id": "2a5227ff",
   "metadata": {},
   "outputs": [
    {
     "data": {
      "text/plain": [
       "array([[0.2075],\n",
       "       [0.4575],\n",
       "       [0.2075],\n",
       "       [0.125 ]])"
      ]
     },
     "execution_count": 19,
     "metadata": {},
     "output_type": "execute_result"
    }
   ],
   "source": [
    "np.matmul(linksT,ranks)"
   ]
  },
  {
   "cell_type": "code",
   "execution_count": 20,
   "id": "9fffe4e1",
   "metadata": {},
   "outputs": [],
   "source": [
    "ranks2 = np.array([[0.2075],\n",
    "       [0.4575],\n",
    "       [0.2075],\n",
    "       [0.125 ]])"
   ]
  },
  {
   "cell_type": "code",
   "execution_count": 21,
   "id": "de81978f",
   "metadata": {},
   "outputs": [
    {
     "data": {
      "text/plain": [
       "array([[0.27   ],\n",
       "       [0.3525 ],\n",
       "       [0.145  ],\n",
       "       [0.22875]])"
      ]
     },
     "execution_count": 21,
     "metadata": {},
     "output_type": "execute_result"
    }
   ],
   "source": [
    "np.matmul(linksT,ranks2)"
   ]
  },
  {
   "cell_type": "code",
   "execution_count": 22,
   "id": "887a3ddc",
   "metadata": {},
   "outputs": [],
   "source": [
    "links_test = np.array([[0, 0, 1, 0],\n",
    "        [0.5, 0, 0, 0],\n",
    "        [0.5, 1, 0, 1],\n",
    "        [0, 0, 0, 0]])\n",
    "ranks_test = np.array([[0.25],\n",
    "                  [0.25],\n",
    "                  [0.25],\n",
    "                  [0.25]])"
   ]
  },
  {
   "cell_type": "markdown",
   "id": "0393dc77",
   "metadata": {},
   "source": [
    "(The full equation with the dampening part)"
   ]
  },
  {
   "cell_type": "code",
   "execution_count": 24,
   "id": "489e6b12",
   "metadata": {},
   "outputs": [],
   "source": [
    "ranks_test2 = np.matmul(links_test,ranks_test)*0.85 + 0.15"
   ]
  },
  {
   "cell_type": "code",
   "execution_count": 25,
   "id": "de967e3b",
   "metadata": {},
   "outputs": [
    {
     "data": {
      "text/plain": [
       "array([[0.3625 ],\n",
       "       [0.25625],\n",
       "       [0.68125],\n",
       "       [0.15   ]])"
      ]
     },
     "execution_count": 25,
     "metadata": {},
     "output_type": "execute_result"
    }
   ],
   "source": [
    "ranks_test2"
   ]
  },
  {
   "cell_type": "markdown",
   "id": "3970249a",
   "metadata": {},
   "source": [
    "With the mechanics of the algorithm down, I co-opted the module structure from the pagerank exploration, with the Webpage and PageRank classes."
   ]
  },
  {
   "cell_type": "code",
   "execution_count": 26,
   "id": "3b321739",
   "metadata": {},
   "outputs": [],
   "source": [
    "class Webpage:\n",
    "    def __init__(self, name, idx):\n",
    "        # create a new webpage, with no links\n",
    "        self.name = name\n",
    "        self.links = []\n",
    "        self.idx = idx\n",
    "        \n",
    "    def add_link(self, target_page):\n",
    "        if not target_page in self.links:\n",
    "            self.links.append(target_page.idx)\n",
    "            \n",
    "    def __str__(self):\n",
    "        return self.name  "
   ]
  },
  {
   "cell_type": "code",
   "execution_count": 36,
   "id": "3b4e9ef8",
   "metadata": {},
   "outputs": [],
   "source": [
    "class PageRank:\n",
    "    def __init__(self, pages, damping_factor=0.85, debug=False, supernode=True):\n",
    "        self.damping_factor = damping_factor\n",
    "        self.debug=debug\n",
    "        self.supernode=supernode\n",
    "\n",
    "        # create a \"supernode\" that has a link and backlink to every page\n",
    "        self.pages = pages.copy() # don't update the actual pages\n",
    "        supernode = Webpage(\"supernode\", len(self.pages))\n",
    "        \n",
    "        if self.supernode:\n",
    "            for page in self.pages:\n",
    "                page.add_link(supernode)\n",
    "                supernode.add_link(page)\n",
    "                \n",
    "            self.pages.append(supernode)\n",
    "        \n",
    "        self.page_ranks = np.ones(len(self.pages)) / len(self.pages)\n",
    "        \n",
    "        self.links = np.zeros((len(self.pages), len(self.pages)))\n",
    "        for v in range(len(self.pages)):\n",
    "            link_val = 1/len(self.pages[v].links)\n",
    "            for link in self.pages[v].links:\n",
    "                self.links[link][v] = link_val\n",
    "                \n",
    "    def run_page_rank(self, iterations, step=1):\n",
    "        for ii in range(iterations):\n",
    "            if self.debug and ii % step == 0:\n",
    "                print(\"\\nIteration #\" + str(ii))\n",
    "                self.print_table(show_supernode=True)\n",
    "            \n",
    "            self.page_ranks = np.matmul(self.links,self.page_ranks)*self.damping_factor + (1-self.damping_factor)\n",
    "        \n",
    "    def print_table(self, show_supernode=False):\n",
    "        for idx in range(len(self.page_ranks)):\n",
    "            if str(self.pages[idx]) != \"supernode\" or show_supernode:\n",
    "                print(str(self.pages[idx]) + \": \" + str(self.page_ranks[idx]))"
   ]
  },
  {
   "cell_type": "code",
   "execution_count": 38,
   "id": "a3f01cc0",
   "metadata": {},
   "outputs": [
    {
     "name": "stdout",
     "output_type": "stream",
     "text": [
      "\n",
      "Iteration #0\n",
      "A: 0.25\n",
      "B: 0.25\n",
      "C: 0.25\n",
      "D: 0.25\n",
      "\n",
      "Iteration #1\n",
      "A: 0.36250000000000004\n",
      "B: 0.25625000000000003\n",
      "C: 0.68125\n",
      "D: 0.15000000000000002\n",
      "\n",
      "Iteration #2\n",
      "A: 0.7290625000000001\n",
      "B: 0.3040625\n",
      "C: 0.6493750000000001\n",
      "D: 0.15000000000000002\n",
      "\n",
      "Iteration #3\n",
      "A: 0.7019687500000001\n",
      "B: 0.45985156250000003\n",
      "C: 0.8458046875\n",
      "D: 0.15000000000000002\n",
      "\n",
      "Iteration #4\n",
      "A: 0.868933984375\n",
      "B: 0.4483367187500001\n",
      "C: 0.9667105468750001\n",
      "D: 0.15000000000000002\n",
      "\n",
      "Iteration #5\n",
      "A: 0.9717039648437501\n",
      "B: 0.519296943359375\n",
      "C: 1.027883154296875\n",
      "D: 0.15000000000000002\n",
      "\n",
      "Iteration #6\n",
      "A: 1.0237006811523437\n",
      "B: 0.5629741850585939\n",
      "C: 1.1318765869140628\n",
      "D: 0.15000000000000002\n",
      "\n",
      "Iteration #7\n",
      "A: 1.1120950988769533\n",
      "B: 0.5850727894897461\n",
      "C: 1.191100846789551\n",
      "D: 0.15000000000000002\n",
      "\n",
      "Iteration #8\n",
      "A: 1.1624357197711181\n",
      "B: 0.6226404170227051\n",
      "C: 1.2474522880889891\n",
      "D: 0.15000000000000002\n",
      "\n",
      "Iteration #9\n",
      "A: 1.2103344448756408\n",
      "B: 0.6440351809027252\n",
      "C: 1.3007795353720244\n",
      "D: 0.15000000000000002\n",
      "A: 1.2556626050662207\n",
      "B: 0.6643921390721473\n",
      "C: 1.3393220428394637\n",
      "D: 0.15000000000000002\n"
     ]
    }
   ],
   "source": [
    "pages = []\n",
    "pageA = Webpage(\"A\", 0)\n",
    "pageB = Webpage(\"B\", 1)\n",
    "pageC = Webpage(\"C\", 2)\n",
    "pageD = Webpage(\"D\", 3)\n",
    "\n",
    "pageA.add_link(pageB)\n",
    "pageA.add_link(pageC)\n",
    "\n",
    "pageB.add_link(pageC)\n",
    "\n",
    "pageC.add_link(pageA)\n",
    "\n",
    "pageD.add_link(pageC)\n",
    "\n",
    "\n",
    "pages.append(pageA)\n",
    "pages.append(pageB)\n",
    "pages.append(pageC)\n",
    "pages.append(pageD)\n",
    "\n",
    "pageRank = PageRank(pages, debug=True, damping_factor=0.85, supernode=False)\n",
    "pageRank.run_page_rank(10)\n",
    "pageRank.print_table(show_supernode=True)"
   ]
  },
  {
   "cell_type": "code",
   "execution_count": 33,
   "id": "ab9652d1",
   "metadata": {},
   "outputs": [
    {
     "data": {
      "text/plain": [
       "array([[0. , 0. , 1. , 0. ],\n",
       "       [0.5, 0. , 0. , 0. ],\n",
       "       [0.5, 1. , 0. , 1. ],\n",
       "       [0. , 0. , 0. , 0. ]])"
      ]
     },
     "execution_count": 33,
     "metadata": {},
     "output_type": "execute_result"
    }
   ],
   "source": [
    "pageRank.links"
   ]
  },
  {
   "cell_type": "markdown",
   "id": "28133234",
   "metadata": {},
   "source": [
    "It makes the same link table as manually, and returns the same results as in the presentation! It works!"
   ]
  },
  {
   "cell_type": "code",
   "execution_count": 39,
   "id": "00362934",
   "metadata": {},
   "outputs": [
    {
     "name": "stdout",
     "output_type": "stream",
     "text": [
      "\n",
      "Iteration #0\n",
      "A: 0.2\n",
      "B: 0.2\n",
      "C: 0.2\n",
      "D: 0.2\n",
      "supernode: 0.2\n",
      "\n",
      "Iteration #1\n",
      "A: 0.2775\n",
      "B: 0.2491666666666667\n",
      "C: 0.4191666666666667\n",
      "D: 0.19250000000000003\n",
      "supernode: 0.4616666666666667\n",
      "\n",
      "Iteration #2\n",
      "A: 0.42625\n",
      "B: 0.32672916666666674\n",
      "C: 0.5144375000000001\n",
      "D: 0.24810416666666668\n",
      "supernode: 0.5944791666666667\n",
      "\n",
      "Iteration #3\n",
      "A: 0.4949627604166667\n",
      "B: 0.39709765625000004\n",
      "C: 0.6414018229166667\n",
      "D: 0.27632682291666666\n",
      "supernode: 0.7337109375\n",
      "\n",
      "Iteration #4\n",
      "A: 0.5785093489583334\n",
      "B: 0.44615302300347226\n",
      "C: 0.7323584266493056\n",
      "D: 0.30591357421875004\n",
      "supernode: 0.849040627170139\n",
      "\n",
      "Iteration #5\n",
      "A: 0.6416734645996094\n",
      "B: 0.4943321154785157\n",
      "C: 0.8139604192979601\n",
      "D: 0.3304211332736545\n",
      "supernode: 0.9447916173502604\n",
      "\n",
      "Iteration #6\n",
      "A: 0.6967013968885634\n",
      "B: 0.5325757003234863\n",
      "C: 0.8830958310431587\n",
      "D: 0.35076821868693037\n",
      "supernode: 1.0282607905578613\n",
      "\n",
      "Iteration #7\n",
      "A: 0.743821146186888\n",
      "B: 0.5659041471119719\n",
      "C: 0.9413253126913989\n",
      "D: 0.3685054179935455\n",
      "supernode: 1.0981356228911958\n",
      "\n",
      "Iteration #8\n",
      "A: 0.7834170777582237\n",
      "B: 0.5941031446173307\n",
      "C: 0.9912272097871757\n",
      "D: 0.3833538198643791\n",
      "supernode: 1.157936647816641\n",
      "\n",
      "Iteration #9\n",
      "A: 0.8173331018205859\n",
      "B: 0.6180297096925329\n",
      "C: 1.0334489195972596\n",
      "D: 0.39606153766103624\n",
      "supernode: 1.208658946095773\n",
      "A: 0.8460558168741871\n",
      "B: 0.6384177382278511\n",
      "C: 1.069406518353118\n",
      "D: 0.4068400260453518\n",
      "supernode: 1.2517822831366017\n"
     ]
    }
   ],
   "source": [
    "pageRank = PageRank(pages, debug=True, damping_factor=0.85, supernode=True)\n",
    "pageRank.run_page_rank(10)\n",
    "pageRank.print_table(show_supernode=True)"
   ]
  },
  {
   "cell_type": "code",
   "execution_count": null,
   "id": "636320b8",
   "metadata": {},
   "outputs": [],
   "source": []
  }
 ],
 "metadata": {
  "kernelspec": {
   "display_name": "Python 3 (ipykernel)",
   "language": "python",
   "name": "python3"
  },
  "language_info": {
   "codemirror_mode": {
    "name": "ipython",
    "version": 3
   },
   "file_extension": ".py",
   "mimetype": "text/x-python",
   "name": "python",
   "nbconvert_exporter": "python",
   "pygments_lexer": "ipython3",
   "version": "3.10.5"
  }
 },
 "nbformat": 4,
 "nbformat_minor": 5
}
